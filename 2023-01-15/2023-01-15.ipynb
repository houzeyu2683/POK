{
 "cells": [
  {
   "attachments": {},
   "cell_type": "markdown",
   "metadata": {},
   "source": [
    "# 傅立葉變換"
   ]
  },
  {
   "attachments": {},
   "cell_type": "markdown",
   "metadata": {},
   "source": [
    "時間：2023"
   ]
  },
  {
   "attachments": {},
   "cell_type": "markdown",
   "metadata": {},
   "source": [
    "在時間預測的問題中，我們經常會需要對時間資料進行特徵工程，時間的資料中經常有季節性的訊息在其中，為了擷取季節性的特徵，我們可以使用傅立葉變換來進行特徵工程。"
   ]
  },
  {
   "cell_type": "code",
   "execution_count": 6,
   "metadata": {},
   "outputs": [],
   "source": [
    "import pandas\n",
    "import os\n",
    "# import matplotlib.pyplot as plt\n",
    "import matplotlib.pyplot\n",
    "# import pandas as pd\n",
    "import plotly.express\n",
    "import pandas\n",
    "# import seaborn as sns\n",
    "import seaborn\n",
    "from sklearn.linear_model import LinearRegression\n",
    "from statsmodels.tsa.deterministic import CalendarFourier, DeterministicProcess"
   ]
  },
  {
   "attachments": {},
   "cell_type": "markdown",
   "metadata": {},
   "source": [
    "範例資料相當簡單，只有時間資訊跟對應的數值欄位，不過在處理時間資訊有很多種手法，可以經由週期或是指標等方式來轉換，在處理上要謹慎。"
   ]
  },
  {
   "cell_type": "code",
   "execution_count": 24,
   "metadata": {},
   "outputs": [
    {
     "data": {
      "text/html": [
       "<div>\n",
       "<style scoped>\n",
       "    .dataframe tbody tr th:only-of-type {\n",
       "        vertical-align: middle;\n",
       "    }\n",
       "\n",
       "    .dataframe tbody tr th {\n",
       "        vertical-align: top;\n",
       "    }\n",
       "\n",
       "    .dataframe thead th {\n",
       "        text-align: right;\n",
       "    }\n",
       "</style>\n",
       "<table border=\"1\" class=\"dataframe\">\n",
       "  <thead>\n",
       "    <tr style=\"text-align: right;\">\n",
       "      <th></th>\n",
       "      <th>Day</th>\n",
       "      <th>NumVehicles</th>\n",
       "    </tr>\n",
       "  </thead>\n",
       "  <tbody>\n",
       "    <tr>\n",
       "      <th>0</th>\n",
       "      <td>2003-11-01</td>\n",
       "      <td>103536</td>\n",
       "    </tr>\n",
       "    <tr>\n",
       "      <th>1</th>\n",
       "      <td>2003-11-02</td>\n",
       "      <td>92051</td>\n",
       "    </tr>\n",
       "    <tr>\n",
       "      <th>2</th>\n",
       "      <td>2003-11-03</td>\n",
       "      <td>100795</td>\n",
       "    </tr>\n",
       "    <tr>\n",
       "      <th>3</th>\n",
       "      <td>2003-11-04</td>\n",
       "      <td>102352</td>\n",
       "    </tr>\n",
       "    <tr>\n",
       "      <th>4</th>\n",
       "      <td>2003-11-05</td>\n",
       "      <td>106569</td>\n",
       "    </tr>\n",
       "    <tr>\n",
       "      <th>...</th>\n",
       "      <td>...</td>\n",
       "      <td>...</td>\n",
       "    </tr>\n",
       "    <tr>\n",
       "      <th>742</th>\n",
       "      <td>2005-11-12</td>\n",
       "      <td>104646</td>\n",
       "    </tr>\n",
       "    <tr>\n",
       "      <th>743</th>\n",
       "      <td>2005-11-13</td>\n",
       "      <td>94424</td>\n",
       "    </tr>\n",
       "    <tr>\n",
       "      <th>744</th>\n",
       "      <td>2005-11-14</td>\n",
       "      <td>112165</td>\n",
       "    </tr>\n",
       "    <tr>\n",
       "      <th>745</th>\n",
       "      <td>2005-11-15</td>\n",
       "      <td>114296</td>\n",
       "    </tr>\n",
       "    <tr>\n",
       "      <th>746</th>\n",
       "      <td>2005-11-16</td>\n",
       "      <td>114690</td>\n",
       "    </tr>\n",
       "  </tbody>\n",
       "</table>\n",
       "<p>747 rows × 2 columns</p>\n",
       "</div>"
      ],
      "text/plain": [
       "            Day  NumVehicles\n",
       "0    2003-11-01       103536\n",
       "1    2003-11-02        92051\n",
       "2    2003-11-03       100795\n",
       "3    2003-11-04       102352\n",
       "4    2003-11-05       106569\n",
       "..          ...          ...\n",
       "742  2005-11-12       104646\n",
       "743  2005-11-13        94424\n",
       "744  2005-11-14       112165\n",
       "745  2005-11-15       114296\n",
       "746  2005-11-16       114690\n",
       "\n",
       "[747 rows x 2 columns]"
      ]
     },
     "execution_count": 24,
     "metadata": {},
     "output_type": "execute_result"
    }
   ],
   "source": [
    "data = pandas.read_csv(\"./source/tunnel.csv\")\n",
    "data"
   ]
  },
  {
   "attachments": {},
   "cell_type": "markdown",
   "metadata": {},
   "source": [
    "光一個時間欄位就可以變出有週期以及沒週期的時間訊息，謹慎在謹慎。"
   ]
  },
  {
   "cell_type": "code",
   "execution_count": 26,
   "metadata": {},
   "outputs": [
    {
     "data": {
      "text/html": [
       "<div>\n",
       "<style scoped>\n",
       "    .dataframe tbody tr th:only-of-type {\n",
       "        vertical-align: middle;\n",
       "    }\n",
       "\n",
       "    .dataframe tbody tr th {\n",
       "        vertical-align: top;\n",
       "    }\n",
       "\n",
       "    .dataframe thead th {\n",
       "        text-align: right;\n",
       "    }\n",
       "</style>\n",
       "<table border=\"1\" class=\"dataframe\">\n",
       "  <thead>\n",
       "    <tr style=\"text-align: right;\">\n",
       "      <th></th>\n",
       "      <th>Day</th>\n",
       "      <th>NumVehicles</th>\n",
       "      <th>DayOfWeek</th>\n",
       "      <th>DayOfYear</th>\n",
       "      <th>Year</th>\n",
       "      <th>NumberOfWeek</th>\n",
       "      <th>WeekOrder</th>\n",
       "    </tr>\n",
       "  </thead>\n",
       "  <tbody>\n",
       "    <tr>\n",
       "      <th>0</th>\n",
       "      <td>2003-11-01</td>\n",
       "      <td>103536</td>\n",
       "      <td>5</td>\n",
       "      <td>305</td>\n",
       "      <td>2003</td>\n",
       "      <td>0</td>\n",
       "      <td>0</td>\n",
       "    </tr>\n",
       "    <tr>\n",
       "      <th>1</th>\n",
       "      <td>2003-11-02</td>\n",
       "      <td>92051</td>\n",
       "      <td>6</td>\n",
       "      <td>306</td>\n",
       "      <td>2003</td>\n",
       "      <td>0</td>\n",
       "      <td>0</td>\n",
       "    </tr>\n",
       "    <tr>\n",
       "      <th>2</th>\n",
       "      <td>2003-11-03</td>\n",
       "      <td>100795</td>\n",
       "      <td>0</td>\n",
       "      <td>307</td>\n",
       "      <td>2003</td>\n",
       "      <td>1</td>\n",
       "      <td>1</td>\n",
       "    </tr>\n",
       "    <tr>\n",
       "      <th>3</th>\n",
       "      <td>2003-11-04</td>\n",
       "      <td>102352</td>\n",
       "      <td>1</td>\n",
       "      <td>308</td>\n",
       "      <td>2003</td>\n",
       "      <td>1</td>\n",
       "      <td>1</td>\n",
       "    </tr>\n",
       "    <tr>\n",
       "      <th>4</th>\n",
       "      <td>2003-11-05</td>\n",
       "      <td>106569</td>\n",
       "      <td>2</td>\n",
       "      <td>309</td>\n",
       "      <td>2003</td>\n",
       "      <td>1</td>\n",
       "      <td>1</td>\n",
       "    </tr>\n",
       "    <tr>\n",
       "      <th>...</th>\n",
       "      <td>...</td>\n",
       "      <td>...</td>\n",
       "      <td>...</td>\n",
       "      <td>...</td>\n",
       "      <td>...</td>\n",
       "      <td>...</td>\n",
       "      <td>...</td>\n",
       "    </tr>\n",
       "    <tr>\n",
       "      <th>742</th>\n",
       "      <td>2005-11-12</td>\n",
       "      <td>104646</td>\n",
       "      <td>5</td>\n",
       "      <td>316</td>\n",
       "      <td>2005</td>\n",
       "      <td>106</td>\n",
       "      <td>106</td>\n",
       "    </tr>\n",
       "    <tr>\n",
       "      <th>743</th>\n",
       "      <td>2005-11-13</td>\n",
       "      <td>94424</td>\n",
       "      <td>6</td>\n",
       "      <td>317</td>\n",
       "      <td>2005</td>\n",
       "      <td>106</td>\n",
       "      <td>106</td>\n",
       "    </tr>\n",
       "    <tr>\n",
       "      <th>744</th>\n",
       "      <td>2005-11-14</td>\n",
       "      <td>112165</td>\n",
       "      <td>0</td>\n",
       "      <td>318</td>\n",
       "      <td>2005</td>\n",
       "      <td>107</td>\n",
       "      <td>107</td>\n",
       "    </tr>\n",
       "    <tr>\n",
       "      <th>745</th>\n",
       "      <td>2005-11-15</td>\n",
       "      <td>114296</td>\n",
       "      <td>1</td>\n",
       "      <td>319</td>\n",
       "      <td>2005</td>\n",
       "      <td>107</td>\n",
       "      <td>107</td>\n",
       "    </tr>\n",
       "    <tr>\n",
       "      <th>746</th>\n",
       "      <td>2005-11-16</td>\n",
       "      <td>114690</td>\n",
       "      <td>2</td>\n",
       "      <td>320</td>\n",
       "      <td>2005</td>\n",
       "      <td>107</td>\n",
       "      <td>107</td>\n",
       "    </tr>\n",
       "  </tbody>\n",
       "</table>\n",
       "<p>747 rows × 7 columns</p>\n",
       "</div>"
      ],
      "text/plain": [
       "           Day  NumVehicles  DayOfWeek  DayOfYear  Year  NumberOfWeek  \\\n",
       "0   2003-11-01       103536          5        305  2003             0   \n",
       "1   2003-11-02        92051          6        306  2003             0   \n",
       "2   2003-11-03       100795          0        307  2003             1   \n",
       "3   2003-11-04       102352          1        308  2003             1   \n",
       "4   2003-11-05       106569          2        309  2003             1   \n",
       "..         ...          ...        ...        ...   ...           ...   \n",
       "742 2005-11-12       104646          5        316  2005           106   \n",
       "743 2005-11-13        94424          6        317  2005           106   \n",
       "744 2005-11-14       112165          0        318  2005           107   \n",
       "745 2005-11-15       114296          1        319  2005           107   \n",
       "746 2005-11-16       114690          2        320  2005           107   \n",
       "\n",
       "     WeekOrder  \n",
       "0            0  \n",
       "1            0  \n",
       "2            1  \n",
       "3            1  \n",
       "4            1  \n",
       "..         ...  \n",
       "742        106  \n",
       "743        106  \n",
       "744        107  \n",
       "745        107  \n",
       "746        107  \n",
       "\n",
       "[747 rows x 7 columns]"
      ]
     },
     "execution_count": 26,
     "metadata": {},
     "output_type": "execute_result"
    }
   ],
   "source": [
    "data['Day'] = pandas.to_datetime(data['Day'])\n",
    "data['DayOfWeek'] = data['Day'].dt.dayofweek\n",
    "data['DayOfYear'] = data['Day'].dt.dayofyear\n",
    "data['Year'] = data['Day'].dt.year\n",
    "data['WeekOrder'] = (data['DayOfWeek'] == 0).cumsum()\n",
    "data"
   ]
  },
  {
   "attachments": {},
   "cell_type": "markdown",
   "metadata": {},
   "source": [
    "以七天為週期的每日資訊以及資料所用的時間總共包含幾個週期作圖，要想清楚因為不好描述。"
   ]
  },
  {
   "cell_type": "code",
   "execution_count": 27,
   "metadata": {},
   "outputs": [
    {
     "data": {
      "application/vnd.plotly.v1+json": {
       "config": {
        "plotlyServerURL": "https://plot.ly"
       },
       "data": [
        {
         "hovertemplate": "WeekOrder=0<br>DayOfWeek=%{x}<br>NumVehicles=%{y}<extra></extra>",
         "legendgroup": "0",
         "line": {
          "color": "#636efa",
          "dash": "solid"
         },
         "marker": {
          "symbol": "circle"
         },
         "mode": "lines",
         "name": "0",
         "orientation": "v",
         "showlegend": true,
         "type": "scatter",
         "x": [
          5,
          6
         ],
         "xaxis": "x",
         "y": [
          103536,
          92051
         ],
         "yaxis": "y"
        },
        {
         "hovertemplate": "WeekOrder=1<br>DayOfWeek=%{x}<br>NumVehicles=%{y}<extra></extra>",
         "legendgroup": "1",
         "line": {
          "color": "#EF553B",
          "dash": "solid"
         },
         "marker": {
          "symbol": "circle"
         },
         "mode": "lines",
         "name": "1",
         "orientation": "v",
         "showlegend": true,
         "type": "scatter",
         "x": [
          0,
          1,
          2,
          3,
          4,
          5,
          6
         ],
         "xaxis": "x",
         "y": [
          100795,
          102352,
          106569,
          106284,
          113111,
          96806,
          86811
         ],
         "yaxis": "y"
        },
        {
         "hovertemplate": "WeekOrder=2<br>DayOfWeek=%{x}<br>NumVehicles=%{y}<extra></extra>",
         "legendgroup": "2",
         "line": {
          "color": "#00cc96",
          "dash": "solid"
         },
         "marker": {
          "symbol": "circle"
         },
         "mode": "lines",
         "name": "2",
         "orientation": "v",
         "showlegend": true,
         "type": "scatter",
         "x": [
          0,
          1,
          2,
          3,
          4,
          5,
          6
         ],
         "xaxis": "x",
         "y": [
          99194,
          102253,
          105707,
          107011,
          113588,
          97066,
          83848
         ],
         "yaxis": "y"
        },
        {
         "hovertemplate": "WeekOrder=3<br>DayOfWeek=%{x}<br>NumVehicles=%{y}<extra></extra>",
         "legendgroup": "3",
         "line": {
          "color": "#ab63fa",
          "dash": "solid"
         },
         "marker": {
          "symbol": "circle"
         },
         "mode": "lines",
         "name": "3",
         "orientation": "v",
         "showlegend": true,
         "type": "scatter",
         "x": [
          0,
          1,
          2,
          3,
          4,
          5,
          6
         ],
         "xaxis": "x",
         "y": [
          99770,
          102281,
          104951,
          108397,
          115567,
          99758,
          88487
         ],
         "yaxis": "y"
        },
        {
         "hovertemplate": "WeekOrder=4<br>DayOfWeek=%{x}<br>NumVehicles=%{y}<extra></extra>",
         "legendgroup": "4",
         "line": {
          "color": "#FFA15A",
          "dash": "solid"
         },
         "marker": {
          "symbol": "circle"
         },
         "mode": "lines",
         "name": "4",
         "orientation": "v",
         "showlegend": true,
         "type": "scatter",
         "x": [
          0,
          1,
          2,
          3,
          4,
          5,
          6
         ],
         "xaxis": "x",
         "y": [
          102773,
          107040,
          108092,
          109490,
          115048,
          101161,
          90733
         ],
         "yaxis": "y"
        },
        {
         "hovertemplate": "WeekOrder=5<br>DayOfWeek=%{x}<br>NumVehicles=%{y}<extra></extra>",
         "legendgroup": "5",
         "line": {
          "color": "#19d3f3",
          "dash": "solid"
         },
         "marker": {
          "symbol": "circle"
         },
         "mode": "lines",
         "name": "5",
         "orientation": "v",
         "showlegend": true,
         "type": "scatter",
         "x": [
          0,
          1,
          2,
          3,
          4,
          5,
          6
         ],
         "xaxis": "x",
         "y": [
          101716,
          102497,
          108085,
          108811,
          113805,
          94656,
          85336
         ],
         "yaxis": "y"
        },
        {
         "hovertemplate": "WeekOrder=6<br>DayOfWeek=%{x}<br>NumVehicles=%{y}<extra></extra>",
         "legendgroup": "6",
         "line": {
          "color": "#FF6692",
          "dash": "solid"
         },
         "marker": {
          "symbol": "circle"
         },
         "mode": "lines",
         "name": "6",
         "orientation": "v",
         "showlegend": true,
         "type": "scatter",
         "x": [
          0,
          1,
          2,
          3,
          4,
          5,
          6
         ],
         "xaxis": "x",
         "y": [
          104140,
          105500,
          106046,
          111200,
          114801,
          97659,
          85532
         ],
         "yaxis": "y"
        },
        {
         "hovertemplate": "WeekOrder=7<br>DayOfWeek=%{x}<br>NumVehicles=%{y}<extra></extra>",
         "legendgroup": "7",
         "line": {
          "color": "#B6E880",
          "dash": "solid"
         },
         "marker": {
          "symbol": "circle"
         },
         "mode": "lines",
         "name": "7",
         "orientation": "v",
         "showlegend": true,
         "type": "scatter",
         "x": [
          0,
          1,
          2,
          3,
          4,
          5,
          6
         ],
         "xaxis": "x",
         "y": [
          102585,
          103496,
          110116,
          110804,
          115991,
          98807,
          78903
         ],
         "yaxis": "y"
        },
        {
         "hovertemplate": "WeekOrder=8<br>DayOfWeek=%{x}<br>NumVehicles=%{y}<extra></extra>",
         "legendgroup": "8",
         "line": {
          "color": "#FF97FF",
          "dash": "solid"
         },
         "marker": {
          "symbol": "circle"
         },
         "mode": "lines",
         "name": "8",
         "orientation": "v",
         "showlegend": true,
         "type": "scatter",
         "x": [
          0,
          1,
          2,
          3,
          4,
          5,
          6
         ],
         "xaxis": "x",
         "y": [
          95771,
          94262,
          85453,
          79812,
          79697,
          88279,
          73671
         ],
         "yaxis": "y"
        },
        {
         "hovertemplate": "WeekOrder=9<br>DayOfWeek=%{x}<br>NumVehicles=%{y}<extra></extra>",
         "legendgroup": "9",
         "line": {
          "color": "#FECB52",
          "dash": "solid"
         },
         "marker": {
          "symbol": "circle"
         },
         "mode": "lines",
         "name": "9",
         "orientation": "v",
         "showlegend": true,
         "type": "scatter",
         "x": [
          0,
          1,
          2,
          3,
          4,
          5,
          6
         ],
         "xaxis": "x",
         "y": [
          85261,
          84747,
          69097,
          53098,
          62895,
          86079,
          70426
         ],
         "yaxis": "y"
        },
        {
         "hovertemplate": "WeekOrder=10<br>DayOfWeek=%{x}<br>NumVehicles=%{y}<extra></extra>",
         "legendgroup": "10",
         "line": {
          "color": "#636efa",
          "dash": "solid"
         },
         "marker": {
          "symbol": "circle"
         },
         "mode": "lines",
         "name": "10",
         "orientation": "v",
         "showlegend": true,
         "type": "scatter",
         "x": [
          0,
          1,
          2,
          3,
          4,
          5,
          6
         ],
         "xaxis": "x",
         "y": [
          85305,
          88929,
          93399,
          94986,
          103527,
          89082,
          74378
         ],
         "yaxis": "y"
        },
        {
         "hovertemplate": "WeekOrder=11<br>DayOfWeek=%{x}<br>NumVehicles=%{y}<extra></extra>",
         "legendgroup": "11",
         "line": {
          "color": "#EF553B",
          "dash": "solid"
         },
         "marker": {
          "symbol": "circle"
         },
         "mode": "lines",
         "name": "11",
         "orientation": "v",
         "showlegend": true,
         "type": "scatter",
         "x": [
          0,
          1,
          2,
          3,
          4,
          5,
          6
         ],
         "xaxis": "x",
         "y": [
          93447,
          96083,
          101949,
          101859,
          107845,
          88817,
          75774
         ],
         "yaxis": "y"
        },
        {
         "hovertemplate": "WeekOrder=12<br>DayOfWeek=%{x}<br>NumVehicles=%{y}<extra></extra>",
         "legendgroup": "12",
         "line": {
          "color": "#00cc96",
          "dash": "solid"
         },
         "marker": {
          "symbol": "circle"
         },
         "mode": "lines",
         "name": "12",
         "orientation": "v",
         "showlegend": true,
         "type": "scatter",
         "x": [
          0,
          1,
          2,
          3,
          4,
          5,
          6
         ],
         "xaxis": "x",
         "y": [
          97604,
          94226,
          102939,
          105527,
          113448,
          95411,
          76837
         ],
         "yaxis": "y"
        },
        {
         "hovertemplate": "WeekOrder=13<br>DayOfWeek=%{x}<br>NumVehicles=%{y}<extra></extra>",
         "legendgroup": "13",
         "line": {
          "color": "#ab63fa",
          "dash": "solid"
         },
         "marker": {
          "symbol": "circle"
         },
         "mode": "lines",
         "name": "13",
         "orientation": "v",
         "showlegend": true,
         "type": "scatter",
         "x": [
          0,
          1,
          2,
          3,
          4,
          5,
          6
         ],
         "xaxis": "x",
         "y": [
          91946,
          85353,
          91359,
          86544,
          105640,
          92171,
          80610
         ],
         "yaxis": "y"
        },
        {
         "hovertemplate": "WeekOrder=14<br>DayOfWeek=%{x}<br>NumVehicles=%{y}<extra></extra>",
         "legendgroup": "14",
         "line": {
          "color": "#FFA15A",
          "dash": "solid"
         },
         "marker": {
          "symbol": "circle"
         },
         "mode": "lines",
         "name": "14",
         "orientation": "v",
         "showlegend": true,
         "type": "scatter",
         "x": [
          0,
          1,
          2,
          3,
          4,
          5,
          6
         ],
         "xaxis": "x",
         "y": [
          94744,
          96471,
          100312,
          101446,
          110229,
          93996,
          71021
         ],
         "yaxis": "y"
        },
        {
         "hovertemplate": "WeekOrder=15<br>DayOfWeek=%{x}<br>NumVehicles=%{y}<extra></extra>",
         "legendgroup": "15",
         "line": {
          "color": "#19d3f3",
          "dash": "solid"
         },
         "marker": {
          "symbol": "circle"
         },
         "mode": "lines",
         "name": "15",
         "orientation": "v",
         "showlegend": true,
         "type": "scatter",
         "x": [
          0,
          1,
          2,
          3,
          4,
          5,
          6
         ],
         "xaxis": "x",
         "y": [
          93971,
          97976,
          97897,
          102504,
          109063,
          94801,
          80870
         ],
         "yaxis": "y"
        },
        {
         "hovertemplate": "WeekOrder=16<br>DayOfWeek=%{x}<br>NumVehicles=%{y}<extra></extra>",
         "legendgroup": "16",
         "line": {
          "color": "#FF6692",
          "dash": "solid"
         },
         "marker": {
          "symbol": "circle"
         },
         "mode": "lines",
         "name": "16",
         "orientation": "v",
         "showlegend": true,
         "type": "scatter",
         "x": [
          0,
          1,
          2,
          3,
          4,
          5,
          6
         ],
         "xaxis": "x",
         "y": [
          97986,
          102483,
          102183,
          106061,
          115648,
          102771,
          84360
         ],
         "yaxis": "y"
        },
        {
         "hovertemplate": "WeekOrder=17<br>DayOfWeek=%{x}<br>NumVehicles=%{y}<extra></extra>",
         "legendgroup": "17",
         "line": {
          "color": "#B6E880",
          "dash": "solid"
         },
         "marker": {
          "symbol": "circle"
         },
         "mode": "lines",
         "name": "17",
         "orientation": "v",
         "showlegend": true,
         "type": "scatter",
         "x": [
          0,
          1,
          2,
          3,
          4,
          5,
          6
         ],
         "xaxis": "x",
         "y": [
          88331,
          94749,
          104769,
          103626,
          115352,
          106147,
          87204
         ],
         "yaxis": "y"
        },
        {
         "hovertemplate": "WeekOrder=18<br>DayOfWeek=%{x}<br>NumVehicles=%{y}<extra></extra>",
         "legendgroup": "18",
         "line": {
          "color": "#FF97FF",
          "dash": "solid"
         },
         "marker": {
          "symbol": "circle"
         },
         "mode": "lines",
         "name": "18",
         "orientation": "v",
         "showlegend": true,
         "type": "scatter",
         "x": [
          0,
          1,
          2,
          3,
          4,
          5,
          6
         ],
         "xaxis": "x",
         "y": [
          101010,
          99848,
          106266,
          108204,
          114861,
          107211,
          88627
         ],
         "yaxis": "y"
        },
        {
         "hovertemplate": "WeekOrder=19<br>DayOfWeek=%{x}<br>NumVehicles=%{y}<extra></extra>",
         "legendgroup": "19",
         "line": {
          "color": "#FECB52",
          "dash": "solid"
         },
         "marker": {
          "symbol": "circle"
         },
         "mode": "lines",
         "name": "19",
         "orientation": "v",
         "showlegend": true,
         "type": "scatter",
         "x": [
          0,
          1,
          2,
          3,
          4,
          5,
          6
         ],
         "xaxis": "x",
         "y": [
          101613,
          104557,
          106943,
          107516,
          118280,
          104538,
          87602
         ],
         "yaxis": "y"
        },
        {
         "hovertemplate": "WeekOrder=20<br>DayOfWeek=%{x}<br>NumVehicles=%{y}<extra></extra>",
         "legendgroup": "20",
         "line": {
          "color": "#636efa",
          "dash": "solid"
         },
         "marker": {
          "symbol": "circle"
         },
         "mode": "lines",
         "name": "20",
         "orientation": "v",
         "showlegend": true,
         "type": "scatter",
         "x": [
          0,
          1,
          2,
          3,
          4,
          5,
          6
         ],
         "xaxis": "x",
         "y": [
          100617,
          104013,
          109856,
          108294,
          115030,
          103035,
          88306
         ],
         "yaxis": "y"
        },
        {
         "hovertemplate": "WeekOrder=21<br>DayOfWeek=%{x}<br>NumVehicles=%{y}<extra></extra>",
         "legendgroup": "21",
         "line": {
          "color": "#EF553B",
          "dash": "solid"
         },
         "marker": {
          "symbol": "circle"
         },
         "mode": "lines",
         "name": "21",
         "orientation": "v",
         "showlegend": true,
         "type": "scatter",
         "x": [
          0,
          1,
          2,
          3,
          4,
          5,
          6
         ],
         "xaxis": "x",
         "y": [
          101895,
          104498,
          106992,
          110311,
          119509,
          107610,
          93377
         ],
         "yaxis": "y"
        },
        {
         "hovertemplate": "WeekOrder=22<br>DayOfWeek=%{x}<br>NumVehicles=%{y}<extra></extra>",
         "legendgroup": "22",
         "line": {
          "color": "#00cc96",
          "dash": "solid"
         },
         "marker": {
          "symbol": "circle"
         },
         "mode": "lines",
         "name": "22",
         "orientation": "v",
         "showlegend": true,
         "type": "scatter",
         "x": [
          0,
          1,
          2,
          3,
          4,
          5,
          6
         ],
         "xaxis": "x",
         "y": [
          106440,
          107497,
          112579,
          112039,
          118536,
          106769,
          90149
         ],
         "yaxis": "y"
        },
        {
         "hovertemplate": "WeekOrder=23<br>DayOfWeek=%{x}<br>NumVehicles=%{y}<extra></extra>",
         "legendgroup": "23",
         "line": {
          "color": "#ab63fa",
          "dash": "solid"
         },
         "marker": {
          "symbol": "circle"
         },
         "mode": "lines",
         "name": "23",
         "orientation": "v",
         "showlegend": true,
         "type": "scatter",
         "x": [
          0,
          1,
          2,
          3,
          4,
          5,
          6
         ],
         "xaxis": "x",
         "y": [
          107382,
          109815,
          115853,
          118665,
          81981,
          89445,
          85947
         ],
         "yaxis": "y"
        },
        {
         "hovertemplate": "WeekOrder=24<br>DayOfWeek=%{x}<br>NumVehicles=%{y}<extra></extra>",
         "legendgroup": "24",
         "line": {
          "color": "#FFA15A",
          "dash": "solid"
         },
         "marker": {
          "symbol": "circle"
         },
         "mode": "lines",
         "name": "24",
         "orientation": "v",
         "showlegend": true,
         "type": "scatter",
         "x": [
          0,
          1,
          2,
          3,
          4,
          5,
          6
         ],
         "xaxis": "x",
         "y": [
          77578,
          106787,
          78507,
          98904,
          112033,
          99020,
          87171
         ],
         "yaxis": "y"
        },
        {
         "hovertemplate": "WeekOrder=25<br>DayOfWeek=%{x}<br>NumVehicles=%{y}<extra></extra>",
         "legendgroup": "25",
         "line": {
          "color": "#19d3f3",
          "dash": "solid"
         },
         "marker": {
          "symbol": "circle"
         },
         "mode": "lines",
         "name": "25",
         "orientation": "v",
         "showlegend": true,
         "type": "scatter",
         "x": [
          0,
          1,
          2,
          3,
          4,
          5,
          6
         ],
         "xaxis": "x",
         "y": [
          103383,
          105724,
          109132,
          109921,
          113525,
          99976,
          89964
         ],
         "yaxis": "y"
        },
        {
         "hovertemplate": "WeekOrder=26<br>DayOfWeek=%{x}<br>NumVehicles=%{y}<extra></extra>",
         "legendgroup": "26",
         "line": {
          "color": "#FF6692",
          "dash": "solid"
         },
         "marker": {
          "symbol": "circle"
         },
         "mode": "lines",
         "name": "26",
         "orientation": "v",
         "showlegend": true,
         "type": "scatter",
         "x": [
          0,
          1,
          2,
          3,
          4,
          5,
          6
         ],
         "xaxis": "x",
         "y": [
          103502,
          105079,
          108907,
          108459,
          117628,
          100073,
          93067
         ],
         "yaxis": "y"
        },
        {
         "hovertemplate": "WeekOrder=27<br>DayOfWeek=%{x}<br>NumVehicles=%{y}<extra></extra>",
         "legendgroup": "27",
         "line": {
          "color": "#B6E880",
          "dash": "solid"
         },
         "marker": {
          "symbol": "circle"
         },
         "mode": "lines",
         "name": "27",
         "orientation": "v",
         "showlegend": true,
         "type": "scatter",
         "x": [
          0,
          1,
          2,
          3,
          4,
          5,
          6
         ],
         "xaxis": "x",
         "y": [
          102423,
          105466,
          108400,
          109673,
          115044,
          103755,
          91948
         ],
         "yaxis": "y"
        },
        {
         "hovertemplate": "WeekOrder=28<br>DayOfWeek=%{x}<br>NumVehicles=%{y}<extra></extra>",
         "legendgroup": "28",
         "line": {
          "color": "#FF97FF",
          "dash": "solid"
         },
         "marker": {
          "symbol": "circle"
         },
         "mode": "lines",
         "name": "28",
         "orientation": "v",
         "showlegend": true,
         "type": "scatter",
         "x": [
          0,
          1,
          2,
          3,
          4,
          5,
          6
         ],
         "xaxis": "x",
         "y": [
          103312,
          105942,
          109693,
          108975,
          117470,
          102822,
          93955
         ],
         "yaxis": "y"
        },
        {
         "hovertemplate": "WeekOrder=29<br>DayOfWeek=%{x}<br>NumVehicles=%{y}<extra></extra>",
         "legendgroup": "29",
         "line": {
          "color": "#FECB52",
          "dash": "solid"
         },
         "marker": {
          "symbol": "circle"
         },
         "mode": "lines",
         "name": "29",
         "orientation": "v",
         "showlegend": true,
         "type": "scatter",
         "x": [
          0,
          1,
          2,
          3,
          4,
          5,
          6
         ],
         "xaxis": "x",
         "y": [
          101511,
          105379,
          118356,
          84766,
          99979,
          93063,
          93867
         ],
         "yaxis": "y"
        },
        {
         "hovertemplate": "WeekOrder=30<br>DayOfWeek=%{x}<br>NumVehicles=%{y}<extra></extra>",
         "legendgroup": "30",
         "line": {
          "color": "#636efa",
          "dash": "solid"
         },
         "marker": {
          "symbol": "circle"
         },
         "mode": "lines",
         "name": "30",
         "orientation": "v",
         "showlegend": true,
         "type": "scatter",
         "x": [
          0,
          1,
          2,
          3,
          4,
          5,
          6
         ],
         "xaxis": "x",
         "y": [
          104688,
          105479,
          108257,
          111329,
          121513,
          102222,
          84476
         ],
         "yaxis": "y"
        },
        {
         "hovertemplate": "WeekOrder=31<br>DayOfWeek=%{x}<br>NumVehicles=%{y}<extra></extra>",
         "legendgroup": "31",
         "line": {
          "color": "#EF553B",
          "dash": "solid"
         },
         "marker": {
          "symbol": "circle"
         },
         "mode": "lines",
         "name": "31",
         "orientation": "v",
         "showlegend": true,
         "type": "scatter",
         "x": [
          0,
          1,
          2,
          3,
          4,
          5,
          6
         ],
         "xaxis": "x",
         "y": [
          81597,
          106469,
          113571,
          109995,
          116871,
          108218,
          93682
         ],
         "yaxis": "y"
        },
        {
         "hovertemplate": "WeekOrder=32<br>DayOfWeek=%{x}<br>NumVehicles=%{y}<extra></extra>",
         "legendgroup": "32",
         "line": {
          "color": "#00cc96",
          "dash": "solid"
         },
         "marker": {
          "symbol": "circle"
         },
         "mode": "lines",
         "name": "32",
         "orientation": "v",
         "showlegend": true,
         "type": "scatter",
         "x": [
          0,
          1,
          2,
          3,
          4,
          5,
          6
         ],
         "xaxis": "x",
         "y": [
          103733,
          104821,
          110010,
          103267,
          115401,
          99566,
          89032
         ],
         "yaxis": "y"
        },
        {
         "hovertemplate": "WeekOrder=33<br>DayOfWeek=%{x}<br>NumVehicles=%{y}<extra></extra>",
         "legendgroup": "33",
         "line": {
          "color": "#ab63fa",
          "dash": "solid"
         },
         "marker": {
          "symbol": "circle"
         },
         "mode": "lines",
         "name": "33",
         "orientation": "v",
         "showlegend": true,
         "type": "scatter",
         "x": [
          0,
          1,
          2,
          3,
          4,
          5,
          6
         ],
         "xaxis": "x",
         "y": [
          103685,
          106686,
          109912,
          110514,
          120484,
          102527,
          90057
         ],
         "yaxis": "y"
        },
        {
         "hovertemplate": "WeekOrder=34<br>DayOfWeek=%{x}<br>NumVehicles=%{y}<extra></extra>",
         "legendgroup": "34",
         "line": {
          "color": "#FFA15A",
          "dash": "solid"
         },
         "marker": {
          "symbol": "circle"
         },
         "mode": "lines",
         "name": "34",
         "orientation": "v",
         "showlegend": true,
         "type": "scatter",
         "x": [
          0,
          1,
          2,
          3,
          4,
          5,
          6
         ],
         "xaxis": "x",
         "y": [
          103136,
          95408,
          108925,
          112258,
          119767,
          102811,
          93380
         ],
         "yaxis": "y"
        },
        {
         "hovertemplate": "WeekOrder=35<br>DayOfWeek=%{x}<br>NumVehicles=%{y}<extra></extra>",
         "legendgroup": "35",
         "line": {
          "color": "#19d3f3",
          "dash": "solid"
         },
         "marker": {
          "symbol": "circle"
         },
         "mode": "lines",
         "name": "35",
         "orientation": "v",
         "showlegend": true,
         "type": "scatter",
         "x": [
          0,
          1,
          2,
          3,
          4,
          5,
          6
         ],
         "xaxis": "x",
         "y": [
          106979,
          108257,
          111202,
          114077,
          120623,
          103581,
          93136
         ],
         "yaxis": "y"
        },
        {
         "hovertemplate": "WeekOrder=36<br>DayOfWeek=%{x}<br>NumVehicles=%{y}<extra></extra>",
         "legendgroup": "36",
         "line": {
          "color": "#FF6692",
          "dash": "solid"
         },
         "marker": {
          "symbol": "circle"
         },
         "mode": "lines",
         "name": "36",
         "orientation": "v",
         "showlegend": true,
         "type": "scatter",
         "x": [
          0,
          1,
          2,
          3,
          4,
          5,
          6
         ],
         "xaxis": "x",
         "y": [
          106387,
          105236,
          108627,
          109238,
          115837,
          96114,
          86720
         ],
         "yaxis": "y"
        },
        {
         "hovertemplate": "WeekOrder=37<br>DayOfWeek=%{x}<br>NumVehicles=%{y}<extra></extra>",
         "legendgroup": "37",
         "line": {
          "color": "#B6E880",
          "dash": "solid"
         },
         "marker": {
          "symbol": "circle"
         },
         "mode": "lines",
         "name": "37",
         "orientation": "v",
         "showlegend": true,
         "type": "scatter",
         "x": [
          0,
          1,
          2,
          3,
          4,
          5,
          6
         ],
         "xaxis": "x",
         "y": [
          100565,
          102154,
          104933,
          106651,
          111294,
          92630,
          83477
         ],
         "yaxis": "y"
        },
        {
         "hovertemplate": "WeekOrder=38<br>DayOfWeek=%{x}<br>NumVehicles=%{y}<extra></extra>",
         "legendgroup": "38",
         "line": {
          "color": "#FF97FF",
          "dash": "solid"
         },
         "marker": {
          "symbol": "circle"
         },
         "mode": "lines",
         "name": "38",
         "orientation": "v",
         "showlegend": true,
         "type": "scatter",
         "x": [
          0,
          1,
          2,
          3,
          4,
          5,
          6
         ],
         "xaxis": "x",
         "y": [
          98319,
          96499,
          100800,
          101011,
          107933,
          90920,
          84247
         ],
         "yaxis": "y"
        },
        {
         "hovertemplate": "WeekOrder=39<br>DayOfWeek=%{x}<br>NumVehicles=%{y}<extra></extra>",
         "legendgroup": "39",
         "line": {
          "color": "#FECB52",
          "dash": "solid"
         },
         "marker": {
          "symbol": "circle"
         },
         "mode": "lines",
         "name": "39",
         "orientation": "v",
         "showlegend": true,
         "type": "scatter",
         "x": [
          0,
          1,
          2,
          3,
          4,
          5,
          6
         ],
         "xaxis": "x",
         "y": [
          97542,
          98893,
          103401,
          106127,
          111487,
          92582,
          77964
         ],
         "yaxis": "y"
        },
        {
         "hovertemplate": "WeekOrder=40<br>DayOfWeek=%{x}<br>NumVehicles=%{y}<extra></extra>",
         "legendgroup": "40",
         "line": {
          "color": "#636efa",
          "dash": "solid"
         },
         "marker": {
          "symbol": "circle"
         },
         "mode": "lines",
         "name": "40",
         "orientation": "v",
         "showlegend": true,
         "type": "scatter",
         "x": [
          0,
          1,
          2,
          3,
          4,
          5,
          6
         ],
         "xaxis": "x",
         "y": [
          102841,
          101146,
          106045,
          109784,
          121901,
          102211,
          96986
         ],
         "yaxis": "y"
        },
        {
         "hovertemplate": "WeekOrder=41<br>DayOfWeek=%{x}<br>NumVehicles=%{y}<extra></extra>",
         "legendgroup": "41",
         "line": {
          "color": "#EF553B",
          "dash": "solid"
         },
         "marker": {
          "symbol": "circle"
         },
         "mode": "lines",
         "name": "41",
         "orientation": "v",
         "showlegend": true,
         "type": "scatter",
         "x": [
          0,
          1,
          2,
          3,
          4,
          5,
          6
         ],
         "xaxis": "x",
         "y": [
          105725,
          107870,
          113653,
          114267,
          122277,
          104698,
          95419
         ],
         "yaxis": "y"
        },
        {
         "hovertemplate": "WeekOrder=42<br>DayOfWeek=%{x}<br>NumVehicles=%{y}<extra></extra>",
         "legendgroup": "42",
         "line": {
          "color": "#00cc96",
          "dash": "solid"
         },
         "marker": {
          "symbol": "circle"
         },
         "mode": "lines",
         "name": "42",
         "orientation": "v",
         "showlegend": true,
         "type": "scatter",
         "x": [
          0,
          1,
          2,
          3,
          4,
          5,
          6
         ],
         "xaxis": "x",
         "y": [
          109242,
          111144,
          115260,
          115954,
          124403,
          106952,
          97599
         ],
         "yaxis": "y"
        },
        {
         "hovertemplate": "WeekOrder=43<br>DayOfWeek=%{x}<br>NumVehicles=%{y}<extra></extra>",
         "legendgroup": "43",
         "line": {
          "color": "#ab63fa",
          "dash": "solid"
         },
         "marker": {
          "symbol": "circle"
         },
         "mode": "lines",
         "name": "43",
         "orientation": "v",
         "showlegend": true,
         "type": "scatter",
         "x": [
          0,
          1,
          2,
          3,
          4,
          5,
          6
         ],
         "xaxis": "x",
         "y": [
          110270,
          109962,
          116264,
          117794,
          125895,
          110708,
          98450
         ],
         "yaxis": "y"
        },
        {
         "hovertemplate": "WeekOrder=44<br>DayOfWeek=%{x}<br>NumVehicles=%{y}<extra></extra>",
         "legendgroup": "44",
         "line": {
          "color": "#FFA15A",
          "dash": "solid"
         },
         "marker": {
          "symbol": "circle"
         },
         "mode": "lines",
         "name": "44",
         "orientation": "v",
         "showlegend": true,
         "type": "scatter",
         "x": [
          0,
          1,
          2,
          3,
          4,
          5,
          6
         ],
         "xaxis": "x",
         "y": [
          109557,
          112652,
          116694,
          118102,
          127753,
          114241,
          107292
         ],
         "yaxis": "y"
        },
        {
         "hovertemplate": "WeekOrder=45<br>DayOfWeek=%{x}<br>NumVehicles=%{y}<extra></extra>",
         "legendgroup": "45",
         "line": {
          "color": "#19d3f3",
          "dash": "solid"
         },
         "marker": {
          "symbol": "circle"
         },
         "mode": "lines",
         "name": "45",
         "orientation": "v",
         "showlegend": true,
         "type": "scatter",
         "x": [
          0,
          1,
          2,
          3,
          4,
          5,
          6
         ],
         "xaxis": "x",
         "y": [
          112399,
          112754,
          116836,
          117459,
          124446,
          106424,
          96428
         ],
         "yaxis": "y"
        },
        {
         "hovertemplate": "WeekOrder=46<br>DayOfWeek=%{x}<br>NumVehicles=%{y}<extra></extra>",
         "legendgroup": "46",
         "line": {
          "color": "#FF6692",
          "dash": "solid"
         },
         "marker": {
          "symbol": "circle"
         },
         "mode": "lines",
         "name": "46",
         "orientation": "v",
         "showlegend": true,
         "type": "scatter",
         "x": [
          0,
          1,
          2,
          3,
          4,
          5,
          6
         ],
         "xaxis": "x",
         "y": [
          110455,
          111297,
          115429,
          117379,
          126060,
          108396,
          94600
         ],
         "yaxis": "y"
        },
        {
         "hovertemplate": "WeekOrder=47<br>DayOfWeek=%{x}<br>NumVehicles=%{y}<extra></extra>",
         "legendgroup": "47",
         "line": {
          "color": "#B6E880",
          "dash": "solid"
         },
         "marker": {
          "symbol": "circle"
         },
         "mode": "lines",
         "name": "47",
         "orientation": "v",
         "showlegend": true,
         "type": "scatter",
         "x": [
          0,
          1,
          2,
          3,
          4,
          5,
          6
         ],
         "xaxis": "x",
         "y": [
          110453,
          111235,
          115786,
          116325,
          125499,
          108943,
          95014
         ],
         "yaxis": "y"
        },
        {
         "hovertemplate": "WeekOrder=48<br>DayOfWeek=%{x}<br>NumVehicles=%{y}<extra></extra>",
         "legendgroup": "48",
         "line": {
          "color": "#FF97FF",
          "dash": "solid"
         },
         "marker": {
          "symbol": "circle"
         },
         "mode": "lines",
         "name": "48",
         "orientation": "v",
         "showlegend": true,
         "type": "scatter",
         "x": [
          0,
          1,
          2,
          3,
          4,
          5,
          6
         ],
         "xaxis": "x",
         "y": [
          109457,
          110607,
          113489,
          115233,
          123690,
          107136,
          96202
         ],
         "yaxis": "y"
        },
        {
         "hovertemplate": "WeekOrder=49<br>DayOfWeek=%{x}<br>NumVehicles=%{y}<extra></extra>",
         "legendgroup": "49",
         "line": {
          "color": "#FECB52",
          "dash": "solid"
         },
         "marker": {
          "symbol": "circle"
         },
         "mode": "lines",
         "name": "49",
         "orientation": "v",
         "showlegend": true,
         "type": "scatter",
         "x": [
          0,
          1,
          2,
          3,
          4,
          5,
          6
         ],
         "xaxis": "x",
         "y": [
          108771,
          110697,
          112265,
          114622,
          121097,
          103108,
          90222
         ],
         "yaxis": "y"
        },
        {
         "hovertemplate": "WeekOrder=50<br>DayOfWeek=%{x}<br>NumVehicles=%{y}<extra></extra>",
         "legendgroup": "50",
         "line": {
          "color": "#636efa",
          "dash": "solid"
         },
         "marker": {
          "symbol": "circle"
         },
         "mode": "lines",
         "name": "50",
         "orientation": "v",
         "showlegend": true,
         "type": "scatter",
         "x": [
          0,
          1,
          2,
          3,
          4,
          5,
          6
         ],
         "xaxis": "x",
         "y": [
          110364,
          112331,
          116902,
          118468,
          124538,
          104944,
          90597
         ],
         "yaxis": "y"
        },
        {
         "hovertemplate": "WeekOrder=51<br>DayOfWeek=%{x}<br>NumVehicles=%{y}<extra></extra>",
         "legendgroup": "51",
         "line": {
          "color": "#EF553B",
          "dash": "solid"
         },
         "marker": {
          "symbol": "circle"
         },
         "mode": "lines",
         "name": "51",
         "orientation": "v",
         "showlegend": true,
         "type": "scatter",
         "x": [
          0,
          1,
          2,
          3,
          4,
          5,
          6
         ],
         "xaxis": "x",
         "y": [
          110163,
          110928,
          115333,
          116896,
          124059,
          104903,
          94564
         ],
         "yaxis": "y"
        },
        {
         "hovertemplate": "WeekOrder=52<br>DayOfWeek=%{x}<br>NumVehicles=%{y}<extra></extra>",
         "legendgroup": "52",
         "line": {
          "color": "#00cc96",
          "dash": "solid"
         },
         "marker": {
          "symbol": "circle"
         },
         "mode": "lines",
         "name": "52",
         "orientation": "v",
         "showlegend": true,
         "type": "scatter",
         "x": [
          0,
          1,
          2,
          3,
          4,
          5,
          6
         ],
         "xaxis": "x",
         "y": [
          110952,
          113071,
          118935,
          120356,
          129619,
          110459,
          95837
         ],
         "yaxis": "y"
        },
        {
         "hovertemplate": "WeekOrder=53<br>DayOfWeek=%{x}<br>NumVehicles=%{y}<extra></extra>",
         "legendgroup": "53",
         "line": {
          "color": "#ab63fa",
          "dash": "solid"
         },
         "marker": {
          "symbol": "circle"
         },
         "mode": "lines",
         "name": "53",
         "orientation": "v",
         "showlegend": true,
         "type": "scatter",
         "x": [
          0,
          1,
          2,
          3,
          4,
          5,
          6
         ],
         "xaxis": "x",
         "y": [
          114727,
          111004,
          115475,
          116164,
          122436,
          102051,
          89408
         ],
         "yaxis": "y"
        },
        {
         "hovertemplate": "WeekOrder=54<br>DayOfWeek=%{x}<br>NumVehicles=%{y}<extra></extra>",
         "legendgroup": "54",
         "line": {
          "color": "#FFA15A",
          "dash": "solid"
         },
         "marker": {
          "symbol": "circle"
         },
         "mode": "lines",
         "name": "54",
         "orientation": "v",
         "showlegend": true,
         "type": "scatter",
         "x": [
          0,
          1,
          2,
          3,
          4,
          5,
          6
         ],
         "xaxis": "x",
         "y": [
          109257,
          109222,
          114327,
          115775,
          121941,
          98781,
          91683
         ],
         "yaxis": "y"
        },
        {
         "hovertemplate": "WeekOrder=55<br>DayOfWeek=%{x}<br>NumVehicles=%{y}<extra></extra>",
         "legendgroup": "55",
         "line": {
          "color": "#19d3f3",
          "dash": "solid"
         },
         "marker": {
          "symbol": "circle"
         },
         "mode": "lines",
         "name": "55",
         "orientation": "v",
         "showlegend": true,
         "type": "scatter",
         "x": [
          0,
          1,
          2,
          3,
          4,
          5,
          6
         ],
         "xaxis": "x",
         "y": [
          110950,
          111251,
          114939,
          118060,
          121682,
          99110,
          88473
         ],
         "yaxis": "y"
        },
        {
         "hovertemplate": "WeekOrder=56<br>DayOfWeek=%{x}<br>NumVehicles=%{y}<extra></extra>",
         "legendgroup": "56",
         "line": {
          "color": "#FF6692",
          "dash": "solid"
         },
         "marker": {
          "symbol": "circle"
         },
         "mode": "lines",
         "name": "56",
         "orientation": "v",
         "showlegend": true,
         "type": "scatter",
         "x": [
          0,
          1,
          2,
          3,
          4,
          5,
          6
         ],
         "xaxis": "x",
         "y": [
          109773,
          110716,
          114749,
          119085,
          126006,
          105812,
          92743
         ],
         "yaxis": "y"
        },
        {
         "hovertemplate": "WeekOrder=57<br>DayOfWeek=%{x}<br>NumVehicles=%{y}<extra></extra>",
         "legendgroup": "57",
         "line": {
          "color": "#B6E880",
          "dash": "solid"
         },
         "marker": {
          "symbol": "circle"
         },
         "mode": "lines",
         "name": "57",
         "orientation": "v",
         "showlegend": true,
         "type": "scatter",
         "x": [
          0,
          1,
          2,
          3,
          4,
          5,
          6
         ],
         "xaxis": "x",
         "y": [
          110123,
          112114,
          115702,
          117914,
          123787,
          102930,
          92930
         ],
         "yaxis": "y"
        },
        {
         "hovertemplate": "WeekOrder=58<br>DayOfWeek=%{x}<br>NumVehicles=%{y}<extra></extra>",
         "legendgroup": "58",
         "line": {
          "color": "#FF97FF",
          "dash": "solid"
         },
         "marker": {
          "symbol": "circle"
         },
         "mode": "lines",
         "name": "58",
         "orientation": "v",
         "showlegend": true,
         "type": "scatter",
         "x": [
          0,
          1,
          2,
          3,
          4,
          5,
          6
         ],
         "xaxis": "x",
         "y": [
          110077,
          113405,
          118597,
          118173,
          123042,
          101572,
          90986
         ],
         "yaxis": "y"
        },
        {
         "hovertemplate": "WeekOrder=59<br>DayOfWeek=%{x}<br>NumVehicles=%{y}<extra></extra>",
         "legendgroup": "59",
         "line": {
          "color": "#FECB52",
          "dash": "solid"
         },
         "marker": {
          "symbol": "circle"
         },
         "mode": "lines",
         "name": "59",
         "orientation": "v",
         "showlegend": true,
         "type": "scatter",
         "x": [
          0,
          1,
          2,
          3,
          4,
          5,
          6
         ],
         "xaxis": "x",
         "y": [
          110925,
          112880,
          118018,
          119937,
          124286,
          99785,
          83675
         ],
         "yaxis": "y"
        },
        {
         "hovertemplate": "WeekOrder=60<br>DayOfWeek=%{x}<br>NumVehicles=%{y}<extra></extra>",
         "legendgroup": "60",
         "line": {
          "color": "#636efa",
          "dash": "solid"
         },
         "marker": {
          "symbol": "circle"
         },
         "mode": "lines",
         "name": "60",
         "orientation": "v",
         "showlegend": true,
         "type": "scatter",
         "x": [
          0,
          1,
          2,
          3,
          4,
          5,
          6
         ],
         "xaxis": "x",
         "y": [
          106888,
          112024,
          115584,
          113159,
          96327,
          91214,
          89976
         ],
         "yaxis": "y"
        },
        {
         "hovertemplate": "WeekOrder=61<br>DayOfWeek=%{x}<br>NumVehicles=%{y}<extra></extra>",
         "legendgroup": "61",
         "line": {
          "color": "#EF553B",
          "dash": "solid"
         },
         "marker": {
          "symbol": "circle"
         },
         "mode": "lines",
         "name": "61",
         "orientation": "v",
         "showlegend": true,
         "type": "scatter",
         "x": [
          0,
          1,
          2,
          3,
          4,
          5,
          6
         ],
         "xaxis": "x",
         "y": [
          92187,
          92113,
          94076,
          96067,
          77596,
          67960,
          83327
         ],
         "yaxis": "y"
        },
        {
         "hovertemplate": "WeekOrder=62<br>DayOfWeek=%{x}<br>NumVehicles=%{y}<extra></extra>",
         "legendgroup": "62",
         "line": {
          "color": "#00cc96",
          "dash": "solid"
         },
         "marker": {
          "symbol": "circle"
         },
         "mode": "lines",
         "name": "62",
         "orientation": "v",
         "showlegend": true,
         "type": "scatter",
         "x": [
          0,
          1,
          2,
          3,
          4,
          5,
          6
         ],
         "xaxis": "x",
         "y": [
          91821,
          94312,
          100961,
          102582,
          109537,
          96266,
          81751
         ],
         "yaxis": "y"
        },
        {
         "hovertemplate": "WeekOrder=63<br>DayOfWeek=%{x}<br>NumVehicles=%{y}<extra></extra>",
         "legendgroup": "63",
         "line": {
          "color": "#ab63fa",
          "dash": "solid"
         },
         "marker": {
          "symbol": "circle"
         },
         "mode": "lines",
         "name": "63",
         "orientation": "v",
         "showlegend": true,
         "type": "scatter",
         "x": [
          0,
          1,
          2,
          3,
          4,
          5,
          6
         ],
         "xaxis": "x",
         "y": [
          101816,
          104401,
          108275,
          110258,
          117427,
          94823,
          82146
         ],
         "yaxis": "y"
        },
        {
         "hovertemplate": "WeekOrder=64<br>DayOfWeek=%{x}<br>NumVehicles=%{y}<extra></extra>",
         "legendgroup": "64",
         "line": {
          "color": "#FFA15A",
          "dash": "solid"
         },
         "marker": {
          "symbol": "circle"
         },
         "mode": "lines",
         "name": "64",
         "orientation": "v",
         "showlegend": true,
         "type": "scatter",
         "x": [
          0,
          1,
          2,
          3,
          4,
          5,
          6
         ],
         "xaxis": "x",
         "y": [
          106252,
          106606,
          107055,
          110016,
          117858,
          95417,
          77919
         ],
         "yaxis": "y"
        },
        {
         "hovertemplate": "WeekOrder=65<br>DayOfWeek=%{x}<br>NumVehicles=%{y}<extra></extra>",
         "legendgroup": "65",
         "line": {
          "color": "#19d3f3",
          "dash": "solid"
         },
         "marker": {
          "symbol": "circle"
         },
         "mode": "lines",
         "name": "65",
         "orientation": "v",
         "showlegend": true,
         "type": "scatter",
         "x": [
          0,
          1,
          2,
          3,
          4,
          5,
          6
         ],
         "xaxis": "x",
         "y": [
          93752,
          98867,
          105962,
          108724,
          116543,
          98505,
          78339
         ],
         "yaxis": "y"
        },
        {
         "hovertemplate": "WeekOrder=66<br>DayOfWeek=%{x}<br>NumVehicles=%{y}<extra></extra>",
         "legendgroup": "66",
         "line": {
          "color": "#FF6692",
          "dash": "solid"
         },
         "marker": {
          "symbol": "circle"
         },
         "mode": "lines",
         "name": "66",
         "orientation": "v",
         "showlegend": true,
         "type": "scatter",
         "x": [
          0,
          1,
          2,
          3,
          4,
          5,
          6
         ],
         "xaxis": "x",
         "y": [
          101919,
          98135,
          101917,
          106061,
          116148,
          102001,
          77231
         ],
         "yaxis": "y"
        },
        {
         "hovertemplate": "WeekOrder=67<br>DayOfWeek=%{x}<br>NumVehicles=%{y}<extra></extra>",
         "legendgroup": "67",
         "line": {
          "color": "#B6E880",
          "dash": "solid"
         },
         "marker": {
          "symbol": "circle"
         },
         "mode": "lines",
         "name": "67",
         "orientation": "v",
         "showlegend": true,
         "type": "scatter",
         "x": [
          0,
          1,
          2,
          3,
          4,
          5,
          6
         ],
         "xaxis": "x",
         "y": [
          100356,
          102958,
          105418,
          107589,
          116802,
          103630,
          76094
         ],
         "yaxis": "y"
        },
        {
         "hovertemplate": "WeekOrder=68<br>DayOfWeek=%{x}<br>NumVehicles=%{y}<extra></extra>",
         "legendgroup": "68",
         "line": {
          "color": "#FF97FF",
          "dash": "solid"
         },
         "marker": {
          "symbol": "circle"
         },
         "mode": "lines",
         "name": "68",
         "orientation": "v",
         "showlegend": true,
         "type": "scatter",
         "x": [
          0,
          1,
          2,
          3,
          4,
          5,
          6
         ],
         "xaxis": "x",
         "y": [
          97551,
          96739,
          100696,
          107179,
          115357,
          99149,
          80211
         ],
         "yaxis": "y"
        },
        {
         "hovertemplate": "WeekOrder=69<br>DayOfWeek=%{x}<br>NumVehicles=%{y}<extra></extra>",
         "legendgroup": "69",
         "line": {
          "color": "#FECB52",
          "dash": "solid"
         },
         "marker": {
          "symbol": "circle"
         },
         "mode": "lines",
         "name": "69",
         "orientation": "v",
         "showlegend": true,
         "type": "scatter",
         "x": [
          0,
          1,
          2,
          3,
          4,
          5,
          6
         ],
         "xaxis": "x",
         "y": [
          100679,
          101775,
          105425,
          110215,
          119054,
          104493,
          79274
         ],
         "yaxis": "y"
        },
        {
         "hovertemplate": "WeekOrder=70<br>DayOfWeek=%{x}<br>NumVehicles=%{y}<extra></extra>",
         "legendgroup": "70",
         "line": {
          "color": "#636efa",
          "dash": "solid"
         },
         "marker": {
          "symbol": "circle"
         },
         "mode": "lines",
         "name": "70",
         "orientation": "v",
         "showlegend": true,
         "type": "scatter",
         "x": [
          0,
          1,
          2,
          3,
          4,
          5,
          6
         ],
         "xaxis": "x",
         "y": [
          104728,
          108108,
          110717,
          113472,
          120868,
          104436,
          82377
         ],
         "yaxis": "y"
        },
        {
         "hovertemplate": "WeekOrder=71<br>DayOfWeek=%{x}<br>NumVehicles=%{y}<extra></extra>",
         "legendgroup": "71",
         "line": {
          "color": "#EF553B",
          "dash": "solid"
         },
         "marker": {
          "symbol": "circle"
         },
         "mode": "lines",
         "name": "71",
         "orientation": "v",
         "showlegend": true,
         "type": "scatter",
         "x": [
          0,
          1,
          2,
          3,
          4,
          5,
          6
         ],
         "xaxis": "x",
         "y": [
          106022,
          104966,
          111765,
          116027,
          124189,
          108370,
          90511
         ],
         "yaxis": "y"
        },
        {
         "hovertemplate": "WeekOrder=72<br>DayOfWeek=%{x}<br>NumVehicles=%{y}<extra></extra>",
         "legendgroup": "72",
         "line": {
          "color": "#00cc96",
          "dash": "solid"
         },
         "marker": {
          "symbol": "circle"
         },
         "mode": "lines",
         "name": "72",
         "orientation": "v",
         "showlegend": true,
         "type": "scatter",
         "x": [
          0,
          1,
          2,
          3,
          4,
          5,
          6
         ],
         "xaxis": "x",
         "y": [
          109599,
          111848,
          118230,
          119382,
          128255,
          113087,
          95270
         ],
         "yaxis": "y"
        },
        {
         "hovertemplate": "WeekOrder=73<br>DayOfWeek=%{x}<br>NumVehicles=%{y}<extra></extra>",
         "legendgroup": "73",
         "line": {
          "color": "#ab63fa",
          "dash": "solid"
         },
         "marker": {
          "symbol": "circle"
         },
         "mode": "lines",
         "name": "73",
         "orientation": "v",
         "showlegend": true,
         "type": "scatter",
         "x": [
          0,
          1,
          2,
          3,
          4,
          5,
          6
         ],
         "xaxis": "x",
         "y": [
          114051,
          116986,
          124493,
          127354,
          86171,
          97296,
          87922
         ],
         "yaxis": "y"
        },
        {
         "hovertemplate": "WeekOrder=74<br>DayOfWeek=%{x}<br>NumVehicles=%{y}<extra></extra>",
         "legendgroup": "74",
         "line": {
          "color": "#FFA15A",
          "dash": "solid"
         },
         "marker": {
          "symbol": "circle"
         },
         "mode": "lines",
         "name": "74",
         "orientation": "v",
         "showlegend": true,
         "type": "scatter",
         "x": [
          0,
          1,
          2,
          3,
          4,
          5,
          6
         ],
         "xaxis": "x",
         "y": [
          90481,
          116328,
          121326,
          121118,
          129009,
          111132,
          96227
         ],
         "yaxis": "y"
        },
        {
         "hovertemplate": "WeekOrder=75<br>DayOfWeek=%{x}<br>NumVehicles=%{y}<extra></extra>",
         "legendgroup": "75",
         "line": {
          "color": "#19d3f3",
          "dash": "solid"
         },
         "marker": {
          "symbol": "circle"
         },
         "mode": "lines",
         "name": "75",
         "orientation": "v",
         "showlegend": true,
         "type": "scatter",
         "x": [
          0,
          1,
          2,
          3,
          4,
          5,
          6
         ],
         "xaxis": "x",
         "y": [
          114573,
          115811,
          120461,
          120288,
          125310,
          103944,
          91469
         ],
         "yaxis": "y"
        },
        {
         "hovertemplate": "WeekOrder=76<br>DayOfWeek=%{x}<br>NumVehicles=%{y}<extra></extra>",
         "legendgroup": "76",
         "line": {
          "color": "#FF6692",
          "dash": "solid"
         },
         "marker": {
          "symbol": "circle"
         },
         "mode": "lines",
         "name": "76",
         "orientation": "v",
         "showlegend": true,
         "type": "scatter",
         "x": [
          0,
          1,
          2,
          3,
          4,
          5,
          6
         ],
         "xaxis": "x",
         "y": [
          112007,
          113554,
          116409,
          118531,
          123488,
          100044,
          87253
         ],
         "yaxis": "y"
        },
        {
         "hovertemplate": "WeekOrder=77<br>DayOfWeek=%{x}<br>NumVehicles=%{y}<extra></extra>",
         "legendgroup": "77",
         "line": {
          "color": "#B6E880",
          "dash": "solid"
         },
         "marker": {
          "symbol": "circle"
         },
         "mode": "lines",
         "name": "77",
         "orientation": "v",
         "showlegend": true,
         "type": "scatter",
         "x": [
          0,
          1,
          2,
          3,
          4,
          5,
          6
         ],
         "xaxis": "x",
         "y": [
          110889,
          113771,
          117451,
          119250,
          126197,
          104666,
          91595
         ],
         "yaxis": "y"
        },
        {
         "hovertemplate": "WeekOrder=78<br>DayOfWeek=%{x}<br>NumVehicles=%{y}<extra></extra>",
         "legendgroup": "78",
         "line": {
          "color": "#FF97FF",
          "dash": "solid"
         },
         "marker": {
          "symbol": "circle"
         },
         "mode": "lines",
         "name": "78",
         "orientation": "v",
         "showlegend": true,
         "type": "scatter",
         "x": [
          0,
          1,
          2,
          3,
          4,
          5,
          6
         ],
         "xaxis": "x",
         "y": [
          112708,
          115921,
          120044,
          122071,
          129401,
          107166,
          94934
         ],
         "yaxis": "y"
        },
        {
         "hovertemplate": "WeekOrder=79<br>DayOfWeek=%{x}<br>NumVehicles=%{y}<extra></extra>",
         "legendgroup": "79",
         "line": {
          "color": "#FECB52",
          "dash": "solid"
         },
         "marker": {
          "symbol": "circle"
         },
         "mode": "lines",
         "name": "79",
         "orientation": "v",
         "showlegend": true,
         "type": "scatter",
         "x": [
          0,
          1,
          2,
          3,
          4,
          5,
          6
         ],
         "xaxis": "x",
         "y": [
          113264,
          115493,
          126497,
          81910,
          108995,
          97762,
          103213
         ],
         "yaxis": "y"
        },
        {
         "hovertemplate": "WeekOrder=80<br>DayOfWeek=%{x}<br>NumVehicles=%{y}<extra></extra>",
         "legendgroup": "80",
         "line": {
          "color": "#636efa",
          "dash": "solid"
         },
         "marker": {
          "symbol": "circle"
         },
         "mode": "lines",
         "name": "80",
         "orientation": "v",
         "showlegend": true,
         "type": "scatter",
         "x": [
          0,
          1,
          2,
          3,
          4,
          5,
          6
         ],
         "xaxis": "x",
         "y": [
          112913,
          114948,
          119588,
          119355,
          129633,
          101264,
          87722
         ],
         "yaxis": "y"
        },
        {
         "hovertemplate": "WeekOrder=81<br>DayOfWeek=%{x}<br>NumVehicles=%{y}<extra></extra>",
         "legendgroup": "81",
         "line": {
          "color": "#EF553B",
          "dash": "solid"
         },
         "marker": {
          "symbol": "circle"
         },
         "mode": "lines",
         "name": "81",
         "orientation": "v",
         "showlegend": true,
         "type": "scatter",
         "x": [
          0,
          1,
          2,
          3,
          4,
          5,
          6
         ],
         "xaxis": "x",
         "y": [
          86177,
          117634,
          120835,
          121769,
          128446,
          105411,
          90105
         ],
         "yaxis": "y"
        },
        {
         "hovertemplate": "WeekOrder=82<br>DayOfWeek=%{x}<br>NumVehicles=%{y}<extra></extra>",
         "legendgroup": "82",
         "line": {
          "color": "#00cc96",
          "dash": "solid"
         },
         "marker": {
          "symbol": "circle"
         },
         "mode": "lines",
         "name": "82",
         "orientation": "v",
         "showlegend": true,
         "type": "scatter",
         "x": [
          0,
          1,
          2,
          3,
          4,
          5,
          6
         ],
         "xaxis": "x",
         "y": [
          115380,
          117490,
          124565,
          115479,
          128042,
          106940,
          98251
         ],
         "yaxis": "y"
        },
        {
         "hovertemplate": "WeekOrder=83<br>DayOfWeek=%{x}<br>NumVehicles=%{y}<extra></extra>",
         "legendgroup": "83",
         "line": {
          "color": "#ab63fa",
          "dash": "solid"
         },
         "marker": {
          "symbol": "circle"
         },
         "mode": "lines",
         "name": "83",
         "orientation": "v",
         "showlegend": true,
         "type": "scatter",
         "x": [
          0,
          1,
          2,
          3,
          4,
          5,
          6
         ],
         "xaxis": "x",
         "y": [
          115084,
          116572,
          119382,
          120566,
          127596,
          105138,
          96391
         ],
         "yaxis": "y"
        },
        {
         "hovertemplate": "WeekOrder=84<br>DayOfWeek=%{x}<br>NumVehicles=%{y}<extra></extra>",
         "legendgroup": "84",
         "line": {
          "color": "#FFA15A",
          "dash": "solid"
         },
         "marker": {
          "symbol": "circle"
         },
         "mode": "lines",
         "name": "84",
         "orientation": "v",
         "showlegend": true,
         "type": "scatter",
         "x": [
          0,
          1,
          2,
          3,
          4,
          5,
          6
         ],
         "xaxis": "x",
         "y": [
          113115,
          116348,
          120433,
          121204,
          129282,
          107096,
          97622
         ],
         "yaxis": "y"
        },
        {
         "hovertemplate": "WeekOrder=85<br>DayOfWeek=%{x}<br>NumVehicles=%{y}<extra></extra>",
         "legendgroup": "85",
         "line": {
          "color": "#19d3f3",
          "dash": "solid"
         },
         "marker": {
          "symbol": "circle"
         },
         "mode": "lines",
         "name": "85",
         "orientation": "v",
         "showlegend": true,
         "type": "scatter",
         "x": [
          0,
          1,
          2,
          3,
          4,
          5,
          6
         ],
         "xaxis": "x",
         "y": [
          115042,
          116187,
          121635,
          124340,
          131031,
          108944,
          98758
         ],
         "yaxis": "y"
        },
        {
         "hovertemplate": "WeekOrder=86<br>DayOfWeek=%{x}<br>NumVehicles=%{y}<extra></extra>",
         "legendgroup": "86",
         "line": {
          "color": "#FF6692",
          "dash": "solid"
         },
         "marker": {
          "symbol": "circle"
         },
         "mode": "lines",
         "name": "86",
         "orientation": "v",
         "showlegend": true,
         "type": "scatter",
         "x": [
          0,
          1,
          2,
          3,
          4,
          5,
          6
         ],
         "xaxis": "x",
         "y": [
          115087,
          115261,
          123895,
          123366,
          128982,
          107271,
          95851
         ],
         "yaxis": "y"
        },
        {
         "hovertemplate": "WeekOrder=87<br>DayOfWeek=%{x}<br>NumVehicles=%{y}<extra></extra>",
         "legendgroup": "87",
         "line": {
          "color": "#B6E880",
          "dash": "solid"
         },
         "marker": {
          "symbol": "circle"
         },
         "mode": "lines",
         "name": "87",
         "orientation": "v",
         "showlegend": true,
         "type": "scatter",
         "x": [
          0,
          1,
          2,
          3,
          4,
          5,
          6
         ],
         "xaxis": "x",
         "y": [
          116698,
          115929,
          121116,
          125353,
          133250,
          109585,
          96375
         ],
         "yaxis": "y"
        },
        {
         "hovertemplate": "WeekOrder=88<br>DayOfWeek=%{x}<br>NumVehicles=%{y}<extra></extra>",
         "legendgroup": "88",
         "line": {
          "color": "#FF97FF",
          "dash": "solid"
         },
         "marker": {
          "symbol": "circle"
         },
         "mode": "lines",
         "name": "88",
         "orientation": "v",
         "showlegend": true,
         "type": "scatter",
         "x": [
          0,
          1,
          2,
          3,
          4,
          5,
          6
         ],
         "xaxis": "x",
         "y": [
          113769,
          116471,
          117421,
          119848,
          125162,
          102040,
          93008
         ],
         "yaxis": "y"
        },
        {
         "hovertemplate": "WeekOrder=89<br>DayOfWeek=%{x}<br>NumVehicles=%{y}<extra></extra>",
         "legendgroup": "89",
         "line": {
          "color": "#FECB52",
          "dash": "solid"
         },
         "marker": {
          "symbol": "circle"
         },
         "mode": "lines",
         "name": "89",
         "orientation": "v",
         "showlegend": true,
         "type": "scatter",
         "x": [
          0,
          1,
          2,
          3,
          4,
          5,
          6
         ],
         "xaxis": "x",
         "y": [
          112064,
          111813,
          114745,
          116090,
          122300,
          101013,
          89492
         ],
         "yaxis": "y"
        },
        {
         "hovertemplate": "WeekOrder=90<br>DayOfWeek=%{x}<br>NumVehicles=%{y}<extra></extra>",
         "legendgroup": "90",
         "line": {
          "color": "#636efa",
          "dash": "solid"
         },
         "marker": {
          "symbol": "circle"
         },
         "mode": "lines",
         "name": "90",
         "orientation": "v",
         "showlegend": true,
         "type": "scatter",
         "x": [
          0,
          1,
          2,
          3,
          4,
          5,
          6
         ],
         "xaxis": "x",
         "y": [
          111071,
          107705,
          108943,
          110562,
          116944,
          97075,
          84374
         ],
         "yaxis": "y"
        },
        {
         "hovertemplate": "WeekOrder=91<br>DayOfWeek=%{x}<br>NumVehicles=%{y}<extra></extra>",
         "legendgroup": "91",
         "line": {
          "color": "#EF553B",
          "dash": "solid"
         },
         "marker": {
          "symbol": "circle"
         },
         "mode": "lines",
         "name": "91",
         "orientation": "v",
         "showlegend": true,
         "type": "scatter",
         "x": [
          0,
          1,
          2,
          3,
          4,
          5,
          6
         ],
         "xaxis": "x",
         "y": [
          103595,
          104704,
          106882,
          107520,
          116673,
          100699,
          84502
         ],
         "yaxis": "y"
        },
        {
         "hovertemplate": "WeekOrder=92<br>DayOfWeek=%{x}<br>NumVehicles=%{y}<extra></extra>",
         "legendgroup": "92",
         "line": {
          "color": "#00cc96",
          "dash": "solid"
         },
         "marker": {
          "symbol": "circle"
         },
         "mode": "lines",
         "name": "92",
         "orientation": "v",
         "showlegend": true,
         "type": "scatter",
         "x": [
          0,
          1,
          2,
          3,
          4,
          5,
          6
         ],
         "xaxis": "x",
         "y": [
          72614,
          110359,
          110603,
          113722,
          119009,
          102012,
          90521
         ],
         "yaxis": "y"
        },
        {
         "hovertemplate": "WeekOrder=93<br>DayOfWeek=%{x}<br>NumVehicles=%{y}<extra></extra>",
         "legendgroup": "93",
         "line": {
          "color": "#ab63fa",
          "dash": "solid"
         },
         "marker": {
          "symbol": "circle"
         },
         "mode": "lines",
         "name": "93",
         "orientation": "v",
         "showlegend": true,
         "type": "scatter",
         "x": [
          0,
          1,
          2,
          3,
          4,
          5,
          6
         ],
         "xaxis": "x",
         "y": [
          111027,
          113565,
          118494,
          118515,
          129253,
          110948,
          100364
         ],
         "yaxis": "y"
        },
        {
         "hovertemplate": "WeekOrder=94<br>DayOfWeek=%{x}<br>NumVehicles=%{y}<extra></extra>",
         "legendgroup": "94",
         "line": {
          "color": "#FFA15A",
          "dash": "solid"
         },
         "marker": {
          "symbol": "circle"
         },
         "mode": "lines",
         "name": "94",
         "orientation": "v",
         "showlegend": true,
         "type": "scatter",
         "x": [
          0,
          1,
          2,
          3,
          4,
          5,
          6
         ],
         "xaxis": "x",
         "y": [
          116032,
          116287,
          120706,
          121582,
          130141,
          112162,
          95294
         ],
         "yaxis": "y"
        },
        {
         "hovertemplate": "WeekOrder=95<br>DayOfWeek=%{x}<br>NumVehicles=%{y}<extra></extra>",
         "legendgroup": "95",
         "line": {
          "color": "#19d3f3",
          "dash": "solid"
         },
         "marker": {
          "symbol": "circle"
         },
         "mode": "lines",
         "name": "95",
         "orientation": "v",
         "showlegend": true,
         "type": "scatter",
         "x": [
          0,
          1,
          2,
          3,
          4,
          5,
          6
         ],
         "xaxis": "x",
         "y": [
          114273,
          119640,
          123666,
          128274,
          139840,
          122379,
          104101
         ],
         "yaxis": "y"
        },
        {
         "hovertemplate": "WeekOrder=96<br>DayOfWeek=%{x}<br>NumVehicles=%{y}<extra></extra>",
         "legendgroup": "96",
         "line": {
          "color": "#FF6692",
          "dash": "solid"
         },
         "marker": {
          "symbol": "circle"
         },
         "mode": "lines",
         "name": "96",
         "orientation": "v",
         "showlegend": true,
         "type": "scatter",
         "x": [
          0,
          1,
          2,
          3,
          4,
          5,
          6
         ],
         "xaxis": "x",
         "y": [
          116825,
          117562,
          119893,
          121723,
          127877,
          113551,
          98545
         ],
         "yaxis": "y"
        },
        {
         "hovertemplate": "WeekOrder=97<br>DayOfWeek=%{x}<br>NumVehicles=%{y}<extra></extra>",
         "legendgroup": "97",
         "line": {
          "color": "#B6E880",
          "dash": "solid"
         },
         "marker": {
          "symbol": "circle"
         },
         "mode": "lines",
         "name": "97",
         "orientation": "v",
         "showlegend": true,
         "type": "scatter",
         "x": [
          0,
          1,
          2,
          3,
          4,
          5,
          6
         ],
         "xaxis": "x",
         "y": [
          114681,
          114318,
          118455,
          120824,
          128273,
          108605,
          96555
         ],
         "yaxis": "y"
        },
        {
         "hovertemplate": "WeekOrder=98<br>DayOfWeek=%{x}<br>NumVehicles=%{y}<extra></extra>",
         "legendgroup": "98",
         "line": {
          "color": "#FF97FF",
          "dash": "solid"
         },
         "marker": {
          "symbol": "circle"
         },
         "mode": "lines",
         "name": "98",
         "orientation": "v",
         "showlegend": true,
         "type": "scatter",
         "x": [
          0,
          1,
          2,
          3,
          4,
          5,
          6
         ],
         "xaxis": "x",
         "y": [
          113244,
          114575,
          116712,
          120260,
          127790,
          109287,
          92052
         ],
         "yaxis": "y"
        },
        {
         "hovertemplate": "WeekOrder=99<br>DayOfWeek=%{x}<br>NumVehicles=%{y}<extra></extra>",
         "legendgroup": "99",
         "line": {
          "color": "#FECB52",
          "dash": "solid"
         },
         "marker": {
          "symbol": "circle"
         },
         "mode": "lines",
         "name": "99",
         "orientation": "v",
         "showlegend": true,
         "type": "scatter",
         "x": [
          0,
          1,
          2,
          3,
          4,
          5,
          6
         ],
         "xaxis": "x",
         "y": [
          112624,
          115000,
          119110,
          120223,
          126570,
          111370,
          98189
         ],
         "yaxis": "y"
        },
        {
         "hovertemplate": "WeekOrder=100<br>DayOfWeek=%{x}<br>NumVehicles=%{y}<extra></extra>",
         "legendgroup": "100",
         "line": {
          "color": "#636efa",
          "dash": "solid"
         },
         "marker": {
          "symbol": "circle"
         },
         "mode": "lines",
         "name": "100",
         "orientation": "v",
         "showlegend": true,
         "type": "scatter",
         "x": [
          0,
          1,
          2,
          3,
          4,
          5,
          6
         ],
         "xaxis": "x",
         "y": [
          113779,
          115827,
          122445,
          121893,
          131419,
          111808,
          93627
         ],
         "yaxis": "y"
        },
        {
         "hovertemplate": "WeekOrder=101<br>DayOfWeek=%{x}<br>NumVehicles=%{y}<extra></extra>",
         "legendgroup": "101",
         "line": {
          "color": "#EF553B",
          "dash": "solid"
         },
         "marker": {
          "symbol": "circle"
         },
         "mode": "lines",
         "name": "101",
         "orientation": "v",
         "showlegend": true,
         "type": "scatter",
         "x": [
          0,
          1,
          2,
          3,
          4,
          5,
          6
         ],
         "xaxis": "x",
         "y": [
          113190,
          111446,
          113284,
          115066,
          121956,
          103183,
          94668
         ],
         "yaxis": "y"
        },
        {
         "hovertemplate": "WeekOrder=102<br>DayOfWeek=%{x}<br>NumVehicles=%{y}<extra></extra>",
         "legendgroup": "102",
         "line": {
          "color": "#00cc96",
          "dash": "solid"
         },
         "marker": {
          "symbol": "circle"
         },
         "mode": "lines",
         "name": "102",
         "orientation": "v",
         "showlegend": true,
         "type": "scatter",
         "x": [
          0,
          1,
          2,
          3,
          4,
          5,
          6
         ],
         "xaxis": "x",
         "y": [
          110714,
          112019,
          113990,
          116613,
          121966,
          104734,
          93587
         ],
         "yaxis": "y"
        },
        {
         "hovertemplate": "WeekOrder=103<br>DayOfWeek=%{x}<br>NumVehicles=%{y}<extra></extra>",
         "legendgroup": "103",
         "line": {
          "color": "#ab63fa",
          "dash": "solid"
         },
         "marker": {
          "symbol": "circle"
         },
         "mode": "lines",
         "name": "103",
         "orientation": "v",
         "showlegend": true,
         "type": "scatter",
         "x": [
          0,
          1,
          2,
          3,
          4,
          5,
          6
         ],
         "xaxis": "x",
         "y": [
          112944,
          114643,
          118033,
          121717,
          127012,
          103776,
          89657
         ],
         "yaxis": "y"
        },
        {
         "hovertemplate": "WeekOrder=104<br>DayOfWeek=%{x}<br>NumVehicles=%{y}<extra></extra>",
         "legendgroup": "104",
         "line": {
          "color": "#FFA15A",
          "dash": "solid"
         },
         "marker": {
          "symbol": "circle"
         },
         "mode": "lines",
         "name": "104",
         "orientation": "v",
         "showlegend": true,
         "type": "scatter",
         "x": [
          0,
          1,
          2,
          3,
          4,
          5,
          6
         ],
         "xaxis": "x",
         "y": [
          113247,
          116713,
          121010,
          123814,
          132332,
          112413,
          97626
         ],
         "yaxis": "y"
        },
        {
         "hovertemplate": "WeekOrder=105<br>DayOfWeek=%{x}<br>NumVehicles=%{y}<extra></extra>",
         "legendgroup": "105",
         "line": {
          "color": "#19d3f3",
          "dash": "solid"
         },
         "marker": {
          "symbol": "circle"
         },
         "mode": "lines",
         "name": "105",
         "orientation": "v",
         "showlegend": true,
         "type": "scatter",
         "x": [
          0,
          1,
          2,
          3,
          4,
          5,
          6
         ],
         "xaxis": "x",
         "y": [
          116393,
          117629,
          117854,
          122053,
          126866,
          107386,
          98226
         ],
         "yaxis": "y"
        },
        {
         "hovertemplate": "WeekOrder=106<br>DayOfWeek=%{x}<br>NumVehicles=%{y}<extra></extra>",
         "legendgroup": "106",
         "line": {
          "color": "#FF6692",
          "dash": "solid"
         },
         "marker": {
          "symbol": "circle"
         },
         "mode": "lines",
         "name": "106",
         "orientation": "v",
         "showlegend": true,
         "type": "scatter",
         "x": [
          0,
          1,
          2,
          3,
          4,
          5,
          6
         ],
         "xaxis": "x",
         "y": [
          113398,
          113682,
          116443,
          119386,
          126650,
          104646,
          94424
         ],
         "yaxis": "y"
        },
        {
         "hovertemplate": "WeekOrder=107<br>DayOfWeek=%{x}<br>NumVehicles=%{y}<extra></extra>",
         "legendgroup": "107",
         "line": {
          "color": "#B6E880",
          "dash": "solid"
         },
         "marker": {
          "symbol": "circle"
         },
         "mode": "lines",
         "name": "107",
         "orientation": "v",
         "showlegend": true,
         "type": "scatter",
         "x": [
          0,
          1,
          2
         ],
         "xaxis": "x",
         "y": [
          112165,
          114296,
          114690
         ],
         "yaxis": "y"
        }
       ],
       "layout": {
        "legend": {
         "title": {
          "text": "WeekOrder"
         },
         "tracegroupgap": 0
        },
        "margin": {
         "t": 60
        },
        "showlegend": false,
        "template": {
         "data": {
          "bar": [
           {
            "error_x": {
             "color": "#2a3f5f"
            },
            "error_y": {
             "color": "#2a3f5f"
            },
            "marker": {
             "line": {
              "color": "#E5ECF6",
              "width": 0.5
             },
             "pattern": {
              "fillmode": "overlay",
              "size": 10,
              "solidity": 0.2
             }
            },
            "type": "bar"
           }
          ],
          "barpolar": [
           {
            "marker": {
             "line": {
              "color": "#E5ECF6",
              "width": 0.5
             },
             "pattern": {
              "fillmode": "overlay",
              "size": 10,
              "solidity": 0.2
             }
            },
            "type": "barpolar"
           }
          ],
          "carpet": [
           {
            "aaxis": {
             "endlinecolor": "#2a3f5f",
             "gridcolor": "white",
             "linecolor": "white",
             "minorgridcolor": "white",
             "startlinecolor": "#2a3f5f"
            },
            "baxis": {
             "endlinecolor": "#2a3f5f",
             "gridcolor": "white",
             "linecolor": "white",
             "minorgridcolor": "white",
             "startlinecolor": "#2a3f5f"
            },
            "type": "carpet"
           }
          ],
          "choropleth": [
           {
            "colorbar": {
             "outlinewidth": 0,
             "ticks": ""
            },
            "type": "choropleth"
           }
          ],
          "contour": [
           {
            "colorbar": {
             "outlinewidth": 0,
             "ticks": ""
            },
            "colorscale": [
             [
              0,
              "#0d0887"
             ],
             [
              0.1111111111111111,
              "#46039f"
             ],
             [
              0.2222222222222222,
              "#7201a8"
             ],
             [
              0.3333333333333333,
              "#9c179e"
             ],
             [
              0.4444444444444444,
              "#bd3786"
             ],
             [
              0.5555555555555556,
              "#d8576b"
             ],
             [
              0.6666666666666666,
              "#ed7953"
             ],
             [
              0.7777777777777778,
              "#fb9f3a"
             ],
             [
              0.8888888888888888,
              "#fdca26"
             ],
             [
              1,
              "#f0f921"
             ]
            ],
            "type": "contour"
           }
          ],
          "contourcarpet": [
           {
            "colorbar": {
             "outlinewidth": 0,
             "ticks": ""
            },
            "type": "contourcarpet"
           }
          ],
          "heatmap": [
           {
            "colorbar": {
             "outlinewidth": 0,
             "ticks": ""
            },
            "colorscale": [
             [
              0,
              "#0d0887"
             ],
             [
              0.1111111111111111,
              "#46039f"
             ],
             [
              0.2222222222222222,
              "#7201a8"
             ],
             [
              0.3333333333333333,
              "#9c179e"
             ],
             [
              0.4444444444444444,
              "#bd3786"
             ],
             [
              0.5555555555555556,
              "#d8576b"
             ],
             [
              0.6666666666666666,
              "#ed7953"
             ],
             [
              0.7777777777777778,
              "#fb9f3a"
             ],
             [
              0.8888888888888888,
              "#fdca26"
             ],
             [
              1,
              "#f0f921"
             ]
            ],
            "type": "heatmap"
           }
          ],
          "heatmapgl": [
           {
            "colorbar": {
             "outlinewidth": 0,
             "ticks": ""
            },
            "colorscale": [
             [
              0,
              "#0d0887"
             ],
             [
              0.1111111111111111,
              "#46039f"
             ],
             [
              0.2222222222222222,
              "#7201a8"
             ],
             [
              0.3333333333333333,
              "#9c179e"
             ],
             [
              0.4444444444444444,
              "#bd3786"
             ],
             [
              0.5555555555555556,
              "#d8576b"
             ],
             [
              0.6666666666666666,
              "#ed7953"
             ],
             [
              0.7777777777777778,
              "#fb9f3a"
             ],
             [
              0.8888888888888888,
              "#fdca26"
             ],
             [
              1,
              "#f0f921"
             ]
            ],
            "type": "heatmapgl"
           }
          ],
          "histogram": [
           {
            "marker": {
             "pattern": {
              "fillmode": "overlay",
              "size": 10,
              "solidity": 0.2
             }
            },
            "type": "histogram"
           }
          ],
          "histogram2d": [
           {
            "colorbar": {
             "outlinewidth": 0,
             "ticks": ""
            },
            "colorscale": [
             [
              0,
              "#0d0887"
             ],
             [
              0.1111111111111111,
              "#46039f"
             ],
             [
              0.2222222222222222,
              "#7201a8"
             ],
             [
              0.3333333333333333,
              "#9c179e"
             ],
             [
              0.4444444444444444,
              "#bd3786"
             ],
             [
              0.5555555555555556,
              "#d8576b"
             ],
             [
              0.6666666666666666,
              "#ed7953"
             ],
             [
              0.7777777777777778,
              "#fb9f3a"
             ],
             [
              0.8888888888888888,
              "#fdca26"
             ],
             [
              1,
              "#f0f921"
             ]
            ],
            "type": "histogram2d"
           }
          ],
          "histogram2dcontour": [
           {
            "colorbar": {
             "outlinewidth": 0,
             "ticks": ""
            },
            "colorscale": [
             [
              0,
              "#0d0887"
             ],
             [
              0.1111111111111111,
              "#46039f"
             ],
             [
              0.2222222222222222,
              "#7201a8"
             ],
             [
              0.3333333333333333,
              "#9c179e"
             ],
             [
              0.4444444444444444,
              "#bd3786"
             ],
             [
              0.5555555555555556,
              "#d8576b"
             ],
             [
              0.6666666666666666,
              "#ed7953"
             ],
             [
              0.7777777777777778,
              "#fb9f3a"
             ],
             [
              0.8888888888888888,
              "#fdca26"
             ],
             [
              1,
              "#f0f921"
             ]
            ],
            "type": "histogram2dcontour"
           }
          ],
          "mesh3d": [
           {
            "colorbar": {
             "outlinewidth": 0,
             "ticks": ""
            },
            "type": "mesh3d"
           }
          ],
          "parcoords": [
           {
            "line": {
             "colorbar": {
              "outlinewidth": 0,
              "ticks": ""
             }
            },
            "type": "parcoords"
           }
          ],
          "pie": [
           {
            "automargin": true,
            "type": "pie"
           }
          ],
          "scatter": [
           {
            "fillpattern": {
             "fillmode": "overlay",
             "size": 10,
             "solidity": 0.2
            },
            "type": "scatter"
           }
          ],
          "scatter3d": [
           {
            "line": {
             "colorbar": {
              "outlinewidth": 0,
              "ticks": ""
             }
            },
            "marker": {
             "colorbar": {
              "outlinewidth": 0,
              "ticks": ""
             }
            },
            "type": "scatter3d"
           }
          ],
          "scattercarpet": [
           {
            "marker": {
             "colorbar": {
              "outlinewidth": 0,
              "ticks": ""
             }
            },
            "type": "scattercarpet"
           }
          ],
          "scattergeo": [
           {
            "marker": {
             "colorbar": {
              "outlinewidth": 0,
              "ticks": ""
             }
            },
            "type": "scattergeo"
           }
          ],
          "scattergl": [
           {
            "marker": {
             "colorbar": {
              "outlinewidth": 0,
              "ticks": ""
             }
            },
            "type": "scattergl"
           }
          ],
          "scattermapbox": [
           {
            "marker": {
             "colorbar": {
              "outlinewidth": 0,
              "ticks": ""
             }
            },
            "type": "scattermapbox"
           }
          ],
          "scatterpolar": [
           {
            "marker": {
             "colorbar": {
              "outlinewidth": 0,
              "ticks": ""
             }
            },
            "type": "scatterpolar"
           }
          ],
          "scatterpolargl": [
           {
            "marker": {
             "colorbar": {
              "outlinewidth": 0,
              "ticks": ""
             }
            },
            "type": "scatterpolargl"
           }
          ],
          "scatterternary": [
           {
            "marker": {
             "colorbar": {
              "outlinewidth": 0,
              "ticks": ""
             }
            },
            "type": "scatterternary"
           }
          ],
          "surface": [
           {
            "colorbar": {
             "outlinewidth": 0,
             "ticks": ""
            },
            "colorscale": [
             [
              0,
              "#0d0887"
             ],
             [
              0.1111111111111111,
              "#46039f"
             ],
             [
              0.2222222222222222,
              "#7201a8"
             ],
             [
              0.3333333333333333,
              "#9c179e"
             ],
             [
              0.4444444444444444,
              "#bd3786"
             ],
             [
              0.5555555555555556,
              "#d8576b"
             ],
             [
              0.6666666666666666,
              "#ed7953"
             ],
             [
              0.7777777777777778,
              "#fb9f3a"
             ],
             [
              0.8888888888888888,
              "#fdca26"
             ],
             [
              1,
              "#f0f921"
             ]
            ],
            "type": "surface"
           }
          ],
          "table": [
           {
            "cells": {
             "fill": {
              "color": "#EBF0F8"
             },
             "line": {
              "color": "white"
             }
            },
            "header": {
             "fill": {
              "color": "#C8D4E3"
             },
             "line": {
              "color": "white"
             }
            },
            "type": "table"
           }
          ]
         },
         "layout": {
          "annotationdefaults": {
           "arrowcolor": "#2a3f5f",
           "arrowhead": 0,
           "arrowwidth": 1
          },
          "autotypenumbers": "strict",
          "coloraxis": {
           "colorbar": {
            "outlinewidth": 0,
            "ticks": ""
           }
          },
          "colorscale": {
           "diverging": [
            [
             0,
             "#8e0152"
            ],
            [
             0.1,
             "#c51b7d"
            ],
            [
             0.2,
             "#de77ae"
            ],
            [
             0.3,
             "#f1b6da"
            ],
            [
             0.4,
             "#fde0ef"
            ],
            [
             0.5,
             "#f7f7f7"
            ],
            [
             0.6,
             "#e6f5d0"
            ],
            [
             0.7,
             "#b8e186"
            ],
            [
             0.8,
             "#7fbc41"
            ],
            [
             0.9,
             "#4d9221"
            ],
            [
             1,
             "#276419"
            ]
           ],
           "sequential": [
            [
             0,
             "#0d0887"
            ],
            [
             0.1111111111111111,
             "#46039f"
            ],
            [
             0.2222222222222222,
             "#7201a8"
            ],
            [
             0.3333333333333333,
             "#9c179e"
            ],
            [
             0.4444444444444444,
             "#bd3786"
            ],
            [
             0.5555555555555556,
             "#d8576b"
            ],
            [
             0.6666666666666666,
             "#ed7953"
            ],
            [
             0.7777777777777778,
             "#fb9f3a"
            ],
            [
             0.8888888888888888,
             "#fdca26"
            ],
            [
             1,
             "#f0f921"
            ]
           ],
           "sequentialminus": [
            [
             0,
             "#0d0887"
            ],
            [
             0.1111111111111111,
             "#46039f"
            ],
            [
             0.2222222222222222,
             "#7201a8"
            ],
            [
             0.3333333333333333,
             "#9c179e"
            ],
            [
             0.4444444444444444,
             "#bd3786"
            ],
            [
             0.5555555555555556,
             "#d8576b"
            ],
            [
             0.6666666666666666,
             "#ed7953"
            ],
            [
             0.7777777777777778,
             "#fb9f3a"
            ],
            [
             0.8888888888888888,
             "#fdca26"
            ],
            [
             1,
             "#f0f921"
            ]
           ]
          },
          "colorway": [
           "#636efa",
           "#EF553B",
           "#00cc96",
           "#ab63fa",
           "#FFA15A",
           "#19d3f3",
           "#FF6692",
           "#B6E880",
           "#FF97FF",
           "#FECB52"
          ],
          "font": {
           "color": "#2a3f5f"
          },
          "geo": {
           "bgcolor": "white",
           "lakecolor": "white",
           "landcolor": "#E5ECF6",
           "showlakes": true,
           "showland": true,
           "subunitcolor": "white"
          },
          "hoverlabel": {
           "align": "left"
          },
          "hovermode": "closest",
          "mapbox": {
           "style": "light"
          },
          "paper_bgcolor": "white",
          "plot_bgcolor": "#E5ECF6",
          "polar": {
           "angularaxis": {
            "gridcolor": "white",
            "linecolor": "white",
            "ticks": ""
           },
           "bgcolor": "#E5ECF6",
           "radialaxis": {
            "gridcolor": "white",
            "linecolor": "white",
            "ticks": ""
           }
          },
          "scene": {
           "xaxis": {
            "backgroundcolor": "#E5ECF6",
            "gridcolor": "white",
            "gridwidth": 2,
            "linecolor": "white",
            "showbackground": true,
            "ticks": "",
            "zerolinecolor": "white"
           },
           "yaxis": {
            "backgroundcolor": "#E5ECF6",
            "gridcolor": "white",
            "gridwidth": 2,
            "linecolor": "white",
            "showbackground": true,
            "ticks": "",
            "zerolinecolor": "white"
           },
           "zaxis": {
            "backgroundcolor": "#E5ECF6",
            "gridcolor": "white",
            "gridwidth": 2,
            "linecolor": "white",
            "showbackground": true,
            "ticks": "",
            "zerolinecolor": "white"
           }
          },
          "shapedefaults": {
           "line": {
            "color": "#2a3f5f"
           }
          },
          "ternary": {
           "aaxis": {
            "gridcolor": "white",
            "linecolor": "white",
            "ticks": ""
           },
           "baxis": {
            "gridcolor": "white",
            "linecolor": "white",
            "ticks": ""
           },
           "bgcolor": "#E5ECF6",
           "caxis": {
            "gridcolor": "white",
            "linecolor": "white",
            "ticks": ""
           }
          },
          "title": {
           "x": 0.05
          },
          "xaxis": {
           "automargin": true,
           "gridcolor": "white",
           "linecolor": "white",
           "ticks": "",
           "title": {
            "standoff": 15
           },
           "zerolinecolor": "white",
           "zerolinewidth": 2
          },
          "yaxis": {
           "automargin": true,
           "gridcolor": "white",
           "linecolor": "white",
           "ticks": "",
           "title": {
            "standoff": 15
           },
           "zerolinecolor": "white",
           "zerolinewidth": 2
          }
         }
        },
        "xaxis": {
         "anchor": "y",
         "domain": [
          0,
          1
         ],
         "title": {
          "text": "DayOfWeek"
         }
        },
        "yaxis": {
         "anchor": "x",
         "domain": [
          0,
          1
         ],
         "title": {
          "text": "NumVehicles"
         }
        }
       }
      }
     },
     "metadata": {},
     "output_type": "display_data"
    }
   ],
   "source": [
    "figure = plotly.express.line(data, x='DayOfWeek', y='NumVehicles', color='WeekOrder')\n",
    "figure.update(layout_showlegend=False)"
   ]
  },
  {
   "attachments": {},
   "cell_type": "markdown",
   "metadata": {},
   "source": [
    "以一年為週期的每日資料以及所有資料使用的時間年度作圖，要想清楚因為不好描述。"
   ]
  },
  {
   "cell_type": "code",
   "execution_count": 23,
   "metadata": {},
   "outputs": [
    {
     "data": {
      "application/vnd.plotly.v1+json": {
       "config": {
        "plotlyServerURL": "https://plot.ly"
       },
       "data": [
        {
         "hovertemplate": "Year=2003<br>DayOfYear=%{x}<br>NumVehicles=%{y}<extra></extra>",
         "legendgroup": "2003",
         "line": {
          "color": "#636efa",
          "dash": "solid"
         },
         "marker": {
          "symbol": "circle"
         },
         "mode": "lines",
         "name": "2003",
         "orientation": "v",
         "showlegend": true,
         "type": "scatter",
         "x": [
          305,
          306,
          307,
          308,
          309,
          310,
          311,
          312,
          313,
          314,
          315,
          316,
          317,
          318,
          319,
          320,
          321,
          322,
          323,
          324,
          325,
          326,
          327,
          328,
          329,
          330,
          331,
          332,
          333,
          334,
          335,
          336,
          337,
          338,
          339,
          340,
          341,
          342,
          343,
          344,
          345,
          346,
          347,
          348,
          349,
          350,
          351,
          352,
          353,
          354,
          355,
          356,
          357,
          358,
          359,
          360,
          361,
          362,
          363,
          364,
          365
         ],
         "xaxis": "x",
         "y": [
          103536,
          92051,
          100795,
          102352,
          106569,
          106284,
          113111,
          96806,
          86811,
          99194,
          102253,
          105707,
          107011,
          113588,
          97066,
          83848,
          99770,
          102281,
          104951,
          108397,
          115567,
          99758,
          88487,
          102773,
          107040,
          108092,
          109490,
          115048,
          101161,
          90733,
          101716,
          102497,
          108085,
          108811,
          113805,
          94656,
          85336,
          104140,
          105500,
          106046,
          111200,
          114801,
          97659,
          85532,
          102585,
          103496,
          110116,
          110804,
          115991,
          98807,
          78903,
          95771,
          94262,
          85453,
          79812,
          79697,
          88279,
          73671,
          85261,
          84747,
          69097
         ],
         "yaxis": "y"
        },
        {
         "hovertemplate": "Year=2004<br>DayOfYear=%{x}<br>NumVehicles=%{y}<extra></extra>",
         "legendgroup": "2004",
         "line": {
          "color": "#EF553B",
          "dash": "solid"
         },
         "marker": {
          "symbol": "circle"
         },
         "mode": "lines",
         "name": "2004",
         "orientation": "v",
         "showlegend": true,
         "type": "scatter",
         "x": [
          1,
          2,
          3,
          4,
          5,
          6,
          7,
          8,
          9,
          10,
          11,
          12,
          13,
          14,
          15,
          16,
          17,
          18,
          19,
          20,
          21,
          22,
          23,
          24,
          25,
          26,
          27,
          28,
          29,
          30,
          31,
          32,
          33,
          34,
          35,
          36,
          37,
          38,
          39,
          40,
          41,
          42,
          43,
          44,
          45,
          46,
          47,
          48,
          49,
          50,
          51,
          52,
          53,
          54,
          55,
          56,
          57,
          58,
          59,
          60,
          61,
          62,
          63,
          64,
          65,
          66,
          67,
          68,
          69,
          70,
          71,
          72,
          73,
          74,
          75,
          76,
          77,
          78,
          79,
          80,
          81,
          82,
          83,
          84,
          85,
          86,
          87,
          88,
          89,
          90,
          91,
          92,
          93,
          94,
          95,
          96,
          97,
          98,
          99,
          100,
          101,
          102,
          103,
          104,
          105,
          106,
          107,
          108,
          109,
          110,
          111,
          112,
          113,
          114,
          115,
          116,
          117,
          118,
          119,
          120,
          121,
          122,
          123,
          124,
          125,
          126,
          127,
          128,
          129,
          130,
          131,
          132,
          133,
          134,
          135,
          136,
          137,
          138,
          139,
          140,
          141,
          142,
          143,
          144,
          145,
          146,
          147,
          148,
          149,
          150,
          151,
          152,
          153,
          154,
          155,
          156,
          157,
          158,
          159,
          160,
          161,
          162,
          163,
          164,
          165,
          166,
          167,
          168,
          169,
          170,
          171,
          172,
          173,
          174,
          175,
          176,
          177,
          178,
          179,
          180,
          181,
          182,
          183,
          184,
          185,
          186,
          187,
          188,
          189,
          190,
          191,
          192,
          193,
          194,
          195,
          196,
          197,
          198,
          199,
          200,
          201,
          202,
          203,
          204,
          205,
          206,
          207,
          208,
          209,
          210,
          211,
          212,
          213,
          214,
          215,
          216,
          217,
          218,
          219,
          220,
          221,
          222,
          223,
          224,
          225,
          226,
          227,
          228,
          229,
          230,
          231,
          232,
          233,
          234,
          235,
          236,
          237,
          238,
          239,
          240,
          241,
          242,
          243,
          244,
          245,
          246,
          247,
          248,
          249,
          250,
          251,
          252,
          253,
          254,
          255,
          256,
          257,
          258,
          259,
          260,
          261,
          262,
          263,
          264,
          265,
          266,
          267,
          268,
          269,
          270,
          271,
          272,
          273,
          274,
          275,
          276,
          277,
          278,
          279,
          280,
          281,
          282,
          283,
          284,
          285,
          286,
          287,
          288,
          289,
          290,
          291,
          292,
          293,
          294,
          295,
          296,
          297,
          298,
          299,
          300,
          301,
          302,
          303,
          304,
          305,
          306,
          307,
          308,
          309,
          310,
          311,
          312,
          313,
          314,
          315,
          316,
          317,
          318,
          319,
          320,
          321,
          322,
          323,
          324,
          325,
          326,
          327,
          328,
          329,
          330,
          331,
          332,
          333,
          334,
          335,
          336,
          337,
          338,
          339,
          340,
          341,
          342,
          343,
          344,
          345,
          346,
          347,
          348,
          349,
          350,
          351,
          352,
          353,
          354,
          355,
          356,
          357,
          358,
          359,
          360,
          361,
          362,
          363,
          364,
          365,
          366
         ],
         "xaxis": "x",
         "y": [
          53098,
          62895,
          86079,
          70426,
          85305,
          88929,
          93399,
          94986,
          103527,
          89082,
          74378,
          93447,
          96083,
          101949,
          101859,
          107845,
          88817,
          75774,
          97604,
          94226,
          102939,
          105527,
          113448,
          95411,
          76837,
          91946,
          85353,
          91359,
          86544,
          105640,
          92171,
          80610,
          94744,
          96471,
          100312,
          101446,
          110229,
          93996,
          71021,
          93971,
          97976,
          97897,
          102504,
          109063,
          94801,
          80870,
          97986,
          102483,
          102183,
          106061,
          115648,
          102771,
          84360,
          88331,
          94749,
          104769,
          103626,
          115352,
          106147,
          87204,
          101010,
          99848,
          106266,
          108204,
          114861,
          107211,
          88627,
          101613,
          104557,
          106943,
          107516,
          118280,
          104538,
          87602,
          100617,
          104013,
          109856,
          108294,
          115030,
          103035,
          88306,
          101895,
          104498,
          106992,
          110311,
          119509,
          107610,
          93377,
          106440,
          107497,
          112579,
          112039,
          118536,
          106769,
          90149,
          107382,
          109815,
          115853,
          118665,
          81981,
          89445,
          85947,
          77578,
          106787,
          78507,
          98904,
          112033,
          99020,
          87171,
          103383,
          105724,
          109132,
          109921,
          113525,
          99976,
          89964,
          103502,
          105079,
          108907,
          108459,
          117628,
          100073,
          93067,
          102423,
          105466,
          108400,
          109673,
          115044,
          103755,
          91948,
          103312,
          105942,
          109693,
          108975,
          117470,
          102822,
          93955,
          101511,
          105379,
          118356,
          84766,
          99979,
          93063,
          93867,
          104688,
          105479,
          108257,
          111329,
          121513,
          102222,
          84476,
          81597,
          106469,
          113571,
          109995,
          116871,
          108218,
          93682,
          103733,
          104821,
          110010,
          103267,
          115401,
          99566,
          89032,
          103685,
          106686,
          109912,
          110514,
          120484,
          102527,
          90057,
          103136,
          95408,
          108925,
          112258,
          119767,
          102811,
          93380,
          106979,
          108257,
          111202,
          114077,
          120623,
          103581,
          93136,
          106387,
          105236,
          108627,
          109238,
          115837,
          96114,
          86720,
          100565,
          102154,
          104933,
          106651,
          111294,
          92630,
          83477,
          98319,
          96499,
          100800,
          101011,
          107933,
          90920,
          84247,
          97542,
          98893,
          103401,
          106127,
          111487,
          92582,
          77964,
          102841,
          101146,
          106045,
          109784,
          121901,
          102211,
          96986,
          105725,
          107870,
          113653,
          114267,
          122277,
          104698,
          95419,
          109242,
          111144,
          115260,
          115954,
          124403,
          106952,
          97599,
          110270,
          109962,
          116264,
          117794,
          125895,
          110708,
          98450,
          109557,
          112652,
          116694,
          118102,
          127753,
          114241,
          107292,
          112399,
          112754,
          116836,
          117459,
          124446,
          106424,
          96428,
          110455,
          111297,
          115429,
          117379,
          126060,
          108396,
          94600,
          110453,
          111235,
          115786,
          116325,
          125499,
          108943,
          95014,
          109457,
          110607,
          113489,
          115233,
          123690,
          107136,
          96202,
          108771,
          110697,
          112265,
          114622,
          121097,
          103108,
          90222,
          110364,
          112331,
          116902,
          118468,
          124538,
          104944,
          90597,
          110163,
          110928,
          115333,
          116896,
          124059,
          104903,
          94564,
          110952,
          113071,
          118935,
          120356,
          129619,
          110459,
          95837,
          114727,
          111004,
          115475,
          116164,
          122436,
          102051,
          89408,
          109257,
          109222,
          114327,
          115775,
          121941,
          98781,
          91683,
          110950,
          111251,
          114939,
          118060,
          121682,
          99110,
          88473,
          109773,
          110716,
          114749,
          119085,
          126006,
          105812,
          92743,
          110123,
          112114,
          115702,
          117914,
          123787,
          102930,
          92930,
          110077,
          113405,
          118597,
          118173,
          123042,
          101572,
          90986,
          110925,
          112880,
          118018,
          119937,
          124286,
          99785,
          83675,
          106888,
          112024,
          115584,
          113159,
          96327,
          91214,
          89976,
          92187,
          92113,
          94076,
          96067,
          77596
         ],
         "yaxis": "y"
        },
        {
         "hovertemplate": "Year=2005<br>DayOfYear=%{x}<br>NumVehicles=%{y}<extra></extra>",
         "legendgroup": "2005",
         "line": {
          "color": "#00cc96",
          "dash": "solid"
         },
         "marker": {
          "symbol": "circle"
         },
         "mode": "lines",
         "name": "2005",
         "orientation": "v",
         "showlegend": true,
         "type": "scatter",
         "x": [
          1,
          2,
          3,
          4,
          5,
          6,
          7,
          8,
          9,
          10,
          11,
          12,
          13,
          14,
          15,
          16,
          17,
          18,
          19,
          20,
          21,
          22,
          23,
          24,
          25,
          26,
          27,
          28,
          29,
          30,
          31,
          32,
          33,
          34,
          35,
          36,
          37,
          38,
          39,
          40,
          41,
          42,
          43,
          44,
          45,
          46,
          47,
          48,
          49,
          50,
          51,
          52,
          53,
          54,
          55,
          56,
          57,
          58,
          59,
          60,
          61,
          62,
          63,
          64,
          65,
          66,
          67,
          68,
          69,
          70,
          71,
          72,
          73,
          74,
          75,
          76,
          77,
          78,
          79,
          80,
          81,
          82,
          83,
          84,
          85,
          86,
          87,
          88,
          89,
          90,
          91,
          92,
          93,
          94,
          95,
          96,
          97,
          98,
          99,
          100,
          101,
          102,
          103,
          104,
          105,
          106,
          107,
          108,
          109,
          110,
          111,
          112,
          113,
          114,
          115,
          116,
          117,
          118,
          119,
          120,
          121,
          122,
          123,
          124,
          125,
          126,
          127,
          128,
          129,
          130,
          131,
          132,
          133,
          134,
          135,
          136,
          137,
          138,
          139,
          140,
          141,
          142,
          143,
          144,
          145,
          146,
          147,
          148,
          149,
          150,
          151,
          152,
          153,
          154,
          155,
          156,
          157,
          158,
          159,
          160,
          161,
          162,
          163,
          164,
          165,
          166,
          167,
          168,
          169,
          170,
          171,
          172,
          173,
          174,
          175,
          176,
          177,
          178,
          179,
          180,
          181,
          182,
          183,
          184,
          185,
          186,
          187,
          188,
          189,
          190,
          191,
          192,
          193,
          194,
          195,
          196,
          197,
          198,
          199,
          200,
          201,
          202,
          203,
          204,
          205,
          206,
          207,
          208,
          209,
          210,
          211,
          212,
          213,
          214,
          215,
          216,
          217,
          218,
          219,
          220,
          221,
          222,
          223,
          224,
          225,
          226,
          227,
          228,
          229,
          230,
          231,
          232,
          233,
          234,
          235,
          236,
          237,
          238,
          239,
          240,
          241,
          242,
          243,
          244,
          245,
          246,
          247,
          248,
          249,
          250,
          251,
          252,
          253,
          254,
          255,
          256,
          257,
          258,
          259,
          260,
          261,
          262,
          263,
          264,
          265,
          266,
          267,
          268,
          269,
          270,
          271,
          272,
          273,
          274,
          275,
          276,
          277,
          278,
          279,
          280,
          281,
          282,
          283,
          284,
          285,
          286,
          287,
          288,
          289,
          290,
          291,
          292,
          293,
          294,
          295,
          296,
          297,
          298,
          299,
          300,
          301,
          302,
          303,
          304,
          305,
          306,
          307,
          308,
          309,
          310,
          311,
          312,
          313,
          314,
          315,
          316,
          317,
          318,
          319,
          320
         ],
         "xaxis": "x",
         "y": [
          67960,
          83327,
          91821,
          94312,
          100961,
          102582,
          109537,
          96266,
          81751,
          101816,
          104401,
          108275,
          110258,
          117427,
          94823,
          82146,
          106252,
          106606,
          107055,
          110016,
          117858,
          95417,
          77919,
          93752,
          98867,
          105962,
          108724,
          116543,
          98505,
          78339,
          101919,
          98135,
          101917,
          106061,
          116148,
          102001,
          77231,
          100356,
          102958,
          105418,
          107589,
          116802,
          103630,
          76094,
          97551,
          96739,
          100696,
          107179,
          115357,
          99149,
          80211,
          100679,
          101775,
          105425,
          110215,
          119054,
          104493,
          79274,
          104728,
          108108,
          110717,
          113472,
          120868,
          104436,
          82377,
          106022,
          104966,
          111765,
          116027,
          124189,
          108370,
          90511,
          109599,
          111848,
          118230,
          119382,
          128255,
          113087,
          95270,
          114051,
          116986,
          124493,
          127354,
          86171,
          97296,
          87922,
          90481,
          116328,
          121326,
          121118,
          129009,
          111132,
          96227,
          114573,
          115811,
          120461,
          120288,
          125310,
          103944,
          91469,
          112007,
          113554,
          116409,
          118531,
          123488,
          100044,
          87253,
          110889,
          113771,
          117451,
          119250,
          126197,
          104666,
          91595,
          112708,
          115921,
          120044,
          122071,
          129401,
          107166,
          94934,
          113264,
          115493,
          126497,
          81910,
          108995,
          97762,
          103213,
          112913,
          114948,
          119588,
          119355,
          129633,
          101264,
          87722,
          86177,
          117634,
          120835,
          121769,
          128446,
          105411,
          90105,
          115380,
          117490,
          124565,
          115479,
          128042,
          106940,
          98251,
          115084,
          116572,
          119382,
          120566,
          127596,
          105138,
          96391,
          113115,
          116348,
          120433,
          121204,
          129282,
          107096,
          97622,
          115042,
          116187,
          121635,
          124340,
          131031,
          108944,
          98758,
          115087,
          115261,
          123895,
          123366,
          128982,
          107271,
          95851,
          116698,
          115929,
          121116,
          125353,
          133250,
          109585,
          96375,
          113769,
          116471,
          117421,
          119848,
          125162,
          102040,
          93008,
          112064,
          111813,
          114745,
          116090,
          122300,
          101013,
          89492,
          111071,
          107705,
          108943,
          110562,
          116944,
          97075,
          84374,
          103595,
          104704,
          106882,
          107520,
          116673,
          100699,
          84502,
          72614,
          110359,
          110603,
          113722,
          119009,
          102012,
          90521,
          111027,
          113565,
          118494,
          118515,
          129253,
          110948,
          100364,
          116032,
          116287,
          120706,
          121582,
          130141,
          112162,
          95294,
          114273,
          119640,
          123666,
          128274,
          139840,
          122379,
          104101,
          116825,
          117562,
          119893,
          121723,
          127877,
          113551,
          98545,
          114681,
          114318,
          118455,
          120824,
          128273,
          108605,
          96555,
          113244,
          114575,
          116712,
          120260,
          127790,
          109287,
          92052,
          112624,
          115000,
          119110,
          120223,
          126570,
          111370,
          98189,
          113779,
          115827,
          122445,
          121893,
          131419,
          111808,
          93627,
          113190,
          111446,
          113284,
          115066,
          121956,
          103183,
          94668,
          110714,
          112019,
          113990,
          116613,
          121966,
          104734,
          93587,
          112944,
          114643,
          118033,
          121717,
          127012,
          103776,
          89657,
          113247,
          116713,
          121010,
          123814,
          132332,
          112413,
          97626,
          116393,
          117629,
          117854,
          122053,
          126866,
          107386,
          98226,
          113398,
          113682,
          116443,
          119386,
          126650,
          104646,
          94424,
          112165,
          114296,
          114690
         ],
         "yaxis": "y"
        }
       ],
       "layout": {
        "legend": {
         "title": {
          "text": "Year"
         },
         "tracegroupgap": 0
        },
        "margin": {
         "t": 60
        },
        "template": {
         "data": {
          "bar": [
           {
            "error_x": {
             "color": "#2a3f5f"
            },
            "error_y": {
             "color": "#2a3f5f"
            },
            "marker": {
             "line": {
              "color": "#E5ECF6",
              "width": 0.5
             },
             "pattern": {
              "fillmode": "overlay",
              "size": 10,
              "solidity": 0.2
             }
            },
            "type": "bar"
           }
          ],
          "barpolar": [
           {
            "marker": {
             "line": {
              "color": "#E5ECF6",
              "width": 0.5
             },
             "pattern": {
              "fillmode": "overlay",
              "size": 10,
              "solidity": 0.2
             }
            },
            "type": "barpolar"
           }
          ],
          "carpet": [
           {
            "aaxis": {
             "endlinecolor": "#2a3f5f",
             "gridcolor": "white",
             "linecolor": "white",
             "minorgridcolor": "white",
             "startlinecolor": "#2a3f5f"
            },
            "baxis": {
             "endlinecolor": "#2a3f5f",
             "gridcolor": "white",
             "linecolor": "white",
             "minorgridcolor": "white",
             "startlinecolor": "#2a3f5f"
            },
            "type": "carpet"
           }
          ],
          "choropleth": [
           {
            "colorbar": {
             "outlinewidth": 0,
             "ticks": ""
            },
            "type": "choropleth"
           }
          ],
          "contour": [
           {
            "colorbar": {
             "outlinewidth": 0,
             "ticks": ""
            },
            "colorscale": [
             [
              0,
              "#0d0887"
             ],
             [
              0.1111111111111111,
              "#46039f"
             ],
             [
              0.2222222222222222,
              "#7201a8"
             ],
             [
              0.3333333333333333,
              "#9c179e"
             ],
             [
              0.4444444444444444,
              "#bd3786"
             ],
             [
              0.5555555555555556,
              "#d8576b"
             ],
             [
              0.6666666666666666,
              "#ed7953"
             ],
             [
              0.7777777777777778,
              "#fb9f3a"
             ],
             [
              0.8888888888888888,
              "#fdca26"
             ],
             [
              1,
              "#f0f921"
             ]
            ],
            "type": "contour"
           }
          ],
          "contourcarpet": [
           {
            "colorbar": {
             "outlinewidth": 0,
             "ticks": ""
            },
            "type": "contourcarpet"
           }
          ],
          "heatmap": [
           {
            "colorbar": {
             "outlinewidth": 0,
             "ticks": ""
            },
            "colorscale": [
             [
              0,
              "#0d0887"
             ],
             [
              0.1111111111111111,
              "#46039f"
             ],
             [
              0.2222222222222222,
              "#7201a8"
             ],
             [
              0.3333333333333333,
              "#9c179e"
             ],
             [
              0.4444444444444444,
              "#bd3786"
             ],
             [
              0.5555555555555556,
              "#d8576b"
             ],
             [
              0.6666666666666666,
              "#ed7953"
             ],
             [
              0.7777777777777778,
              "#fb9f3a"
             ],
             [
              0.8888888888888888,
              "#fdca26"
             ],
             [
              1,
              "#f0f921"
             ]
            ],
            "type": "heatmap"
           }
          ],
          "heatmapgl": [
           {
            "colorbar": {
             "outlinewidth": 0,
             "ticks": ""
            },
            "colorscale": [
             [
              0,
              "#0d0887"
             ],
             [
              0.1111111111111111,
              "#46039f"
             ],
             [
              0.2222222222222222,
              "#7201a8"
             ],
             [
              0.3333333333333333,
              "#9c179e"
             ],
             [
              0.4444444444444444,
              "#bd3786"
             ],
             [
              0.5555555555555556,
              "#d8576b"
             ],
             [
              0.6666666666666666,
              "#ed7953"
             ],
             [
              0.7777777777777778,
              "#fb9f3a"
             ],
             [
              0.8888888888888888,
              "#fdca26"
             ],
             [
              1,
              "#f0f921"
             ]
            ],
            "type": "heatmapgl"
           }
          ],
          "histogram": [
           {
            "marker": {
             "pattern": {
              "fillmode": "overlay",
              "size": 10,
              "solidity": 0.2
             }
            },
            "type": "histogram"
           }
          ],
          "histogram2d": [
           {
            "colorbar": {
             "outlinewidth": 0,
             "ticks": ""
            },
            "colorscale": [
             [
              0,
              "#0d0887"
             ],
             [
              0.1111111111111111,
              "#46039f"
             ],
             [
              0.2222222222222222,
              "#7201a8"
             ],
             [
              0.3333333333333333,
              "#9c179e"
             ],
             [
              0.4444444444444444,
              "#bd3786"
             ],
             [
              0.5555555555555556,
              "#d8576b"
             ],
             [
              0.6666666666666666,
              "#ed7953"
             ],
             [
              0.7777777777777778,
              "#fb9f3a"
             ],
             [
              0.8888888888888888,
              "#fdca26"
             ],
             [
              1,
              "#f0f921"
             ]
            ],
            "type": "histogram2d"
           }
          ],
          "histogram2dcontour": [
           {
            "colorbar": {
             "outlinewidth": 0,
             "ticks": ""
            },
            "colorscale": [
             [
              0,
              "#0d0887"
             ],
             [
              0.1111111111111111,
              "#46039f"
             ],
             [
              0.2222222222222222,
              "#7201a8"
             ],
             [
              0.3333333333333333,
              "#9c179e"
             ],
             [
              0.4444444444444444,
              "#bd3786"
             ],
             [
              0.5555555555555556,
              "#d8576b"
             ],
             [
              0.6666666666666666,
              "#ed7953"
             ],
             [
              0.7777777777777778,
              "#fb9f3a"
             ],
             [
              0.8888888888888888,
              "#fdca26"
             ],
             [
              1,
              "#f0f921"
             ]
            ],
            "type": "histogram2dcontour"
           }
          ],
          "mesh3d": [
           {
            "colorbar": {
             "outlinewidth": 0,
             "ticks": ""
            },
            "type": "mesh3d"
           }
          ],
          "parcoords": [
           {
            "line": {
             "colorbar": {
              "outlinewidth": 0,
              "ticks": ""
             }
            },
            "type": "parcoords"
           }
          ],
          "pie": [
           {
            "automargin": true,
            "type": "pie"
           }
          ],
          "scatter": [
           {
            "fillpattern": {
             "fillmode": "overlay",
             "size": 10,
             "solidity": 0.2
            },
            "type": "scatter"
           }
          ],
          "scatter3d": [
           {
            "line": {
             "colorbar": {
              "outlinewidth": 0,
              "ticks": ""
             }
            },
            "marker": {
             "colorbar": {
              "outlinewidth": 0,
              "ticks": ""
             }
            },
            "type": "scatter3d"
           }
          ],
          "scattercarpet": [
           {
            "marker": {
             "colorbar": {
              "outlinewidth": 0,
              "ticks": ""
             }
            },
            "type": "scattercarpet"
           }
          ],
          "scattergeo": [
           {
            "marker": {
             "colorbar": {
              "outlinewidth": 0,
              "ticks": ""
             }
            },
            "type": "scattergeo"
           }
          ],
          "scattergl": [
           {
            "marker": {
             "colorbar": {
              "outlinewidth": 0,
              "ticks": ""
             }
            },
            "type": "scattergl"
           }
          ],
          "scattermapbox": [
           {
            "marker": {
             "colorbar": {
              "outlinewidth": 0,
              "ticks": ""
             }
            },
            "type": "scattermapbox"
           }
          ],
          "scatterpolar": [
           {
            "marker": {
             "colorbar": {
              "outlinewidth": 0,
              "ticks": ""
             }
            },
            "type": "scatterpolar"
           }
          ],
          "scatterpolargl": [
           {
            "marker": {
             "colorbar": {
              "outlinewidth": 0,
              "ticks": ""
             }
            },
            "type": "scatterpolargl"
           }
          ],
          "scatterternary": [
           {
            "marker": {
             "colorbar": {
              "outlinewidth": 0,
              "ticks": ""
             }
            },
            "type": "scatterternary"
           }
          ],
          "surface": [
           {
            "colorbar": {
             "outlinewidth": 0,
             "ticks": ""
            },
            "colorscale": [
             [
              0,
              "#0d0887"
             ],
             [
              0.1111111111111111,
              "#46039f"
             ],
             [
              0.2222222222222222,
              "#7201a8"
             ],
             [
              0.3333333333333333,
              "#9c179e"
             ],
             [
              0.4444444444444444,
              "#bd3786"
             ],
             [
              0.5555555555555556,
              "#d8576b"
             ],
             [
              0.6666666666666666,
              "#ed7953"
             ],
             [
              0.7777777777777778,
              "#fb9f3a"
             ],
             [
              0.8888888888888888,
              "#fdca26"
             ],
             [
              1,
              "#f0f921"
             ]
            ],
            "type": "surface"
           }
          ],
          "table": [
           {
            "cells": {
             "fill": {
              "color": "#EBF0F8"
             },
             "line": {
              "color": "white"
             }
            },
            "header": {
             "fill": {
              "color": "#C8D4E3"
             },
             "line": {
              "color": "white"
             }
            },
            "type": "table"
           }
          ]
         },
         "layout": {
          "annotationdefaults": {
           "arrowcolor": "#2a3f5f",
           "arrowhead": 0,
           "arrowwidth": 1
          },
          "autotypenumbers": "strict",
          "coloraxis": {
           "colorbar": {
            "outlinewidth": 0,
            "ticks": ""
           }
          },
          "colorscale": {
           "diverging": [
            [
             0,
             "#8e0152"
            ],
            [
             0.1,
             "#c51b7d"
            ],
            [
             0.2,
             "#de77ae"
            ],
            [
             0.3,
             "#f1b6da"
            ],
            [
             0.4,
             "#fde0ef"
            ],
            [
             0.5,
             "#f7f7f7"
            ],
            [
             0.6,
             "#e6f5d0"
            ],
            [
             0.7,
             "#b8e186"
            ],
            [
             0.8,
             "#7fbc41"
            ],
            [
             0.9,
             "#4d9221"
            ],
            [
             1,
             "#276419"
            ]
           ],
           "sequential": [
            [
             0,
             "#0d0887"
            ],
            [
             0.1111111111111111,
             "#46039f"
            ],
            [
             0.2222222222222222,
             "#7201a8"
            ],
            [
             0.3333333333333333,
             "#9c179e"
            ],
            [
             0.4444444444444444,
             "#bd3786"
            ],
            [
             0.5555555555555556,
             "#d8576b"
            ],
            [
             0.6666666666666666,
             "#ed7953"
            ],
            [
             0.7777777777777778,
             "#fb9f3a"
            ],
            [
             0.8888888888888888,
             "#fdca26"
            ],
            [
             1,
             "#f0f921"
            ]
           ],
           "sequentialminus": [
            [
             0,
             "#0d0887"
            ],
            [
             0.1111111111111111,
             "#46039f"
            ],
            [
             0.2222222222222222,
             "#7201a8"
            ],
            [
             0.3333333333333333,
             "#9c179e"
            ],
            [
             0.4444444444444444,
             "#bd3786"
            ],
            [
             0.5555555555555556,
             "#d8576b"
            ],
            [
             0.6666666666666666,
             "#ed7953"
            ],
            [
             0.7777777777777778,
             "#fb9f3a"
            ],
            [
             0.8888888888888888,
             "#fdca26"
            ],
            [
             1,
             "#f0f921"
            ]
           ]
          },
          "colorway": [
           "#636efa",
           "#EF553B",
           "#00cc96",
           "#ab63fa",
           "#FFA15A",
           "#19d3f3",
           "#FF6692",
           "#B6E880",
           "#FF97FF",
           "#FECB52"
          ],
          "font": {
           "color": "#2a3f5f"
          },
          "geo": {
           "bgcolor": "white",
           "lakecolor": "white",
           "landcolor": "#E5ECF6",
           "showlakes": true,
           "showland": true,
           "subunitcolor": "white"
          },
          "hoverlabel": {
           "align": "left"
          },
          "hovermode": "closest",
          "mapbox": {
           "style": "light"
          },
          "paper_bgcolor": "white",
          "plot_bgcolor": "#E5ECF6",
          "polar": {
           "angularaxis": {
            "gridcolor": "white",
            "linecolor": "white",
            "ticks": ""
           },
           "bgcolor": "#E5ECF6",
           "radialaxis": {
            "gridcolor": "white",
            "linecolor": "white",
            "ticks": ""
           }
          },
          "scene": {
           "xaxis": {
            "backgroundcolor": "#E5ECF6",
            "gridcolor": "white",
            "gridwidth": 2,
            "linecolor": "white",
            "showbackground": true,
            "ticks": "",
            "zerolinecolor": "white"
           },
           "yaxis": {
            "backgroundcolor": "#E5ECF6",
            "gridcolor": "white",
            "gridwidth": 2,
            "linecolor": "white",
            "showbackground": true,
            "ticks": "",
            "zerolinecolor": "white"
           },
           "zaxis": {
            "backgroundcolor": "#E5ECF6",
            "gridcolor": "white",
            "gridwidth": 2,
            "linecolor": "white",
            "showbackground": true,
            "ticks": "",
            "zerolinecolor": "white"
           }
          },
          "shapedefaults": {
           "line": {
            "color": "#2a3f5f"
           }
          },
          "ternary": {
           "aaxis": {
            "gridcolor": "white",
            "linecolor": "white",
            "ticks": ""
           },
           "baxis": {
            "gridcolor": "white",
            "linecolor": "white",
            "ticks": ""
           },
           "bgcolor": "#E5ECF6",
           "caxis": {
            "gridcolor": "white",
            "linecolor": "white",
            "ticks": ""
           }
          },
          "title": {
           "x": 0.05
          },
          "xaxis": {
           "automargin": true,
           "gridcolor": "white",
           "linecolor": "white",
           "ticks": "",
           "title": {
            "standoff": 15
           },
           "zerolinecolor": "white",
           "zerolinewidth": 2
          },
          "yaxis": {
           "automargin": true,
           "gridcolor": "white",
           "linecolor": "white",
           "ticks": "",
           "title": {
            "standoff": 15
           },
           "zerolinecolor": "white",
           "zerolinewidth": 2
          }
         }
        },
        "xaxis": {
         "anchor": "y",
         "domain": [
          0,
          1
         ],
         "title": {
          "text": "DayOfYear"
         }
        },
        "yaxis": {
         "anchor": "x",
         "domain": [
          0,
          1
         ],
         "title": {
          "text": "NumVehicles"
         }
        }
       }
      }
     },
     "metadata": {},
     "output_type": "display_data"
    }
   ],
   "source": [
    "figure = plotly.express.line(data, x='DayOfYear', y='NumVehicles', color='Year')\n",
    "figure"
   ]
  },
  {
   "cell_type": "code",
   "execution_count": 33,
   "metadata": {},
   "outputs": [],
   "source": [
    "from scipy.signal import periodogram\n",
    "# data['NumVehicles']\n",
    "# frequency = 1"
   ]
  },
  {
   "cell_type": "code",
   "execution_count": 37,
   "metadata": {},
   "outputs": [],
   "source": [
    "frequency, spectrum = periodogram(\n",
    "    data['NumVehicles'],\n",
    "    fs=365,\n",
    "    detrend='linear',\n",
    "    window=\"boxcar\",\n",
    "    scaling='spectrum',\n",
    ")"
   ]
  },
  {
   "cell_type": "code",
   "execution_count": 38,
   "metadata": {},
   "outputs": [
    {
     "data": {
      "application/vnd.plotly.v1+json": {
       "config": {
        "plotlyServerURL": "https://plot.ly"
       },
       "data": [
        {
         "hovertemplate": "x=%{x}<br>y=%{y}<extra></extra>",
         "legendgroup": "",
         "line": {
          "color": "#636efa",
          "dash": "solid",
          "shape": "hv"
         },
         "marker": {
          "symbol": "circle"
         },
         "mode": "lines",
         "name": "",
         "orientation": "v",
         "showlegend": false,
         "type": "scatter",
         "x": [
          0,
          0.4886211512717537,
          0.9772423025435074,
          1.465863453815261,
          1.9544846050870148,
          2.4431057563587686,
          2.931726907630522,
          3.420348058902276,
          3.9089692101740297,
          4.397590361445784,
          4.886211512717537,
          5.374832663989291,
          5.863453815261044,
          6.352074966532798,
          6.840696117804552,
          7.329317269076306,
          7.817938420348059,
          8.306559571619813,
          8.795180722891567,
          9.28380187416332,
          9.772423025435074,
          10.261044176706827,
          10.749665327978581,
          11.238286479250336,
          11.726907630522089,
          12.215528781793843,
          12.704149933065596,
          13.19277108433735,
          13.681392235609104,
          14.170013386880857,
          14.658634538152612,
          15.147255689424364,
          15.635876840696119,
          16.12449799196787,
          16.613119143239626,
          17.10174029451138,
          17.590361445783135,
          18.078982597054885,
          18.56760374832664,
          19.056224899598394,
          19.54484605087015,
          20.033467202141903,
          20.522088353413654,
          21.01070950468541,
          21.499330655957163,
          21.987951807228917,
          22.47657295850067,
          22.965194109772423,
          23.453815261044177,
          23.94243641231593,
          24.431057563587686,
          24.91967871485944,
          25.40829986613119,
          25.896921017402946,
          26.3855421686747,
          26.874163319946454,
          27.36278447121821,
          27.85140562248996,
          28.340026773761714,
          28.82864792503347,
          29.317269076305223,
          29.805890227576977,
          30.29451137884873,
          30.783132530120483,
          31.271753681392237,
          31.76037483266399,
          32.24899598393574,
          32.7376171352075,
          33.22623828647925,
          33.714859437751,
          34.20348058902276,
          34.69210174029451,
          35.18072289156627,
          35.66934404283802,
          36.15796519410977,
          36.64658634538153,
          37.13520749665328,
          37.62382864792504,
          38.11244979919679,
          38.60107095046854,
          39.0896921017403,
          39.57831325301205,
          40.066934404283806,
          40.55555555555556,
          41.04417670682731,
          41.532797858099066,
          42.02141900937082,
          42.510040160642575,
          42.998661311914326,
          43.48728246318608,
          43.975903614457835,
          44.464524765729585,
          44.95314591700134,
          45.441767068273094,
          45.930388219544845,
          46.4190093708166,
          46.907630522088354,
          47.39625167336011,
          47.88487282463186,
          48.373493975903614,
          48.86211512717537,
          49.35073627844712,
          49.83935742971888,
          50.32797858099063,
          50.81659973226238,
          51.30522088353414,
          51.79384203480589,
          52.28246318607765,
          52.7710843373494,
          53.25970548862115,
          53.74832663989291,
          54.23694779116466,
          54.72556894243642,
          55.21419009370817,
          55.70281124497992,
          56.19143239625168,
          56.68005354752343,
          57.168674698795186,
          57.65729585006694,
          58.14591700133869,
          58.634538152610446,
          59.1231593038822,
          59.611780455153955,
          60.100401606425706,
          60.58902275769746,
          61.077643908969215,
          61.566265060240966,
          62.05488621151272,
          62.543507362784474,
          63.032128514056225,
          63.52074966532798,
          64.00937081659974,
          64.49799196787149,
          64.98661311914324,
          65.475234270415,
          65.96385542168674,
          66.4524765729585,
          66.94109772423026,
          67.429718875502,
          67.91834002677376,
          68.40696117804552,
          68.89558232931728,
          69.38420348058902,
          69.87282463186078,
          70.36144578313254,
          70.85006693440428,
          71.33868808567604,
          71.8273092369478,
          72.31593038821954,
          72.8045515394913,
          73.29317269076306,
          73.78179384203482,
          74.27041499330656,
          74.75903614457832,
          75.24765729585008,
          75.73627844712182,
          76.22489959839358,
          76.71352074966534,
          77.20214190093708,
          77.69076305220884,
          78.1793842034806,
          78.66800535475235,
          79.1566265060241,
          79.64524765729585,
          80.13386880856761,
          80.62248995983936,
          81.11111111111111,
          81.59973226238287,
          82.08835341365462,
          82.57697456492637,
          83.06559571619813,
          83.55421686746989,
          84.04283801874163,
          84.53145917001339,
          85.02008032128515,
          85.5087014725569,
          85.99732262382865,
          86.48594377510041,
          86.97456492637215,
          87.46318607764391,
          87.95180722891567,
          88.44042838018743,
          88.92904953145917,
          89.41767068273093,
          89.90629183400269,
          90.39491298527443,
          90.88353413654619,
          91.37215528781795,
          91.86077643908969,
          92.34939759036145,
          92.8380187416332,
          93.32663989290496,
          93.81526104417671,
          94.30388219544847,
          94.79250334672022,
          95.28112449799197,
          95.76974564926373,
          96.25836680053548,
          96.74698795180723,
          97.23560910307899,
          97.72423025435074,
          98.2128514056225,
          98.70147255689425,
          99.190093708166,
          99.67871485943776,
          100.1673360107095,
          100.65595716198126,
          101.14457831325302,
          101.63319946452476,
          102.12182061579652,
          102.61044176706828,
          103.09906291834004,
          103.58768406961178,
          104.07630522088354,
          104.5649263721553,
          105.05354752342704,
          105.5421686746988,
          106.03078982597056,
          106.5194109772423,
          107.00803212851406,
          107.49665327978582,
          107.98527443105758,
          108.47389558232932,
          108.96251673360108,
          109.45113788487284,
          109.93975903614458,
          110.42838018741634,
          110.9170013386881,
          111.40562248995984,
          111.8942436412316,
          112.38286479250336,
          112.87148594377511,
          113.36010709504686,
          113.84872824631861,
          114.33734939759037,
          114.82597054886212,
          115.31459170013387,
          115.80321285140563,
          116.29183400267738,
          116.78045515394913,
          117.26907630522089,
          117.75769745649265,
          118.2463186077644,
          118.73493975903615,
          119.22356091030791,
          119.71218206157965,
          120.20080321285141,
          120.68942436412317,
          121.17804551539491,
          121.66666666666667,
          122.15528781793843,
          122.64390896921019,
          123.13253012048193,
          123.62115127175369,
          124.10977242302545,
          124.59839357429719,
          125.08701472556895,
          125.5756358768407,
          126.06425702811245,
          126.55287817938421,
          127.04149933065597,
          127.53012048192771,
          128.01874163319948,
          128.5073627844712,
          128.99598393574297,
          129.48460508701473,
          129.9732262382865,
          130.46184738955824,
          130.95046854083,
          131.43908969210176,
          131.9277108433735,
          132.41633199464525,
          132.904953145917,
          133.39357429718876,
          133.88219544846052,
          134.37081659973228,
          134.859437751004,
          135.34805890227577,
          135.83668005354752,
          136.32530120481928,
          136.81392235609104,
          137.3025435073628,
          137.79116465863456,
          138.2797858099063,
          138.76840696117804,
          139.2570281124498,
          139.74564926372156,
          140.23427041499332,
          140.72289156626508,
          141.21151271753683,
          141.70013386880856,
          142.18875502008032,
          142.67737617135208,
          143.16599732262384,
          143.6546184738956,
          144.14323962516735,
          144.63186077643908,
          145.12048192771084,
          145.6091030789826,
          146.09772423025436,
          146.58634538152612,
          147.07496653279787,
          147.56358768406963,
          148.05220883534136,
          148.54082998661312,
          149.02945113788488,
          149.51807228915663,
          150.0066934404284,
          150.49531459170015,
          150.9839357429719,
          151.47255689424364,
          151.9611780455154,
          152.44979919678715,
          152.9384203480589,
          153.42704149933067,
          153.91566265060243,
          154.40428380187416,
          154.89290495314592,
          155.38152610441767,
          155.87014725568943,
          156.3587684069612,
          156.84738955823295,
          157.3360107095047,
          157.82463186077644,
          158.3132530120482,
          158.80187416331995,
          159.2904953145917,
          159.77911646586347,
          160.26773761713523,
          160.75635876840698,
          161.2449799196787,
          161.73360107095047,
          162.22222222222223,
          162.710843373494,
          163.19946452476574,
          163.6880856760375,
          164.17670682730923,
          164.665327978581,
          165.15394912985275,
          165.6425702811245,
          166.13119143239626,
          166.61981258366802,
          167.10843373493978,
          167.5970548862115,
          168.08567603748327,
          168.57429718875503,
          169.06291834002678,
          169.55153949129854,
          170.0401606425703,
          170.52878179384206,
          171.0174029451138,
          171.50602409638554,
          171.9946452476573,
          172.48326639892906,
          172.97188755020082,
          173.46050870147258,
          173.9491298527443,
          174.43775100401606,
          174.92637215528782,
          175.41499330655958,
          175.90361445783134,
          176.3922356091031,
          176.88085676037485,
          177.36947791164658,
          177.85809906291834,
          178.3467202141901,
          178.83534136546186,
          179.32396251673362,
          179.81258366800537,
          180.30120481927713,
          180.78982597054886,
          181.27844712182062,
          181.76706827309238,
          182.25568942436414
         ],
         "xaxis": "x",
         "y": [
          2.8723516904600997e-24,
          732706.2677975689,
          4407715.2356889015,
          1123155.8424172865,
          7200868.0568168,
          141889.79391685338,
          915648.0329073269,
          394618.9842801833,
          5762602.943668123,
          159247.21612900734,
          972149.8942219481,
          547144.9958052156,
          638854.4281130015,
          325170.6448598298,
          2875557.812372136,
          398741.24245583825,
          270067.78236760007,
          337976.9737646096,
          1513378.552926444,
          537.7630884758864,
          160078.03606997116,
          864218.2651621439,
          809279.1513920793,
          864117.0442224741,
          152988.39105622965,
          76255.20257860607,
          375913.88426559186,
          195275.29616111054,
          387547.1260101388,
          617422.9037497437,
          263932.3535706278,
          360375.42227627675,
          12542.206149543195,
          67303.4258255847,
          258793.0071407072,
          539324.6801194953,
          485881.66710938443,
          38592.10208028571,
          90927.33835289981,
          41896.04124605731,
          19045.680598259052,
          234013.82457140266,
          160106.2191597813,
          394487.55097353825,
          6512.404918563388,
          59729.70222530721,
          28749.156887039895,
          32133.086280172975,
          12622.404519809794,
          18839.809482688273,
          133491.7073155245,
          136723.7450739174,
          2878.4367469106523,
          166263.35367353013,
          92532.00875914238,
          100212.12390454486,
          7010.330790882429,
          69855.88316899586,
          370233.5332389589,
          75640.34042229758,
          564108.4514844364,
          8034.325737773303,
          174184.20053768842,
          16865.56809580667,
          7435.361570263077,
          24583.648803822445,
          109861.14482725144,
          8355.625307979764,
          45588.04406362828,
          38356.02954947929,
          289942.0624753311,
          67741.79082199822,
          76689.79835556322,
          385272.2499443342,
          7017.88107647716,
          396874.331393435,
          27515.83321607391,
          208611.26353153243,
          105019.022664746,
          137757.35661748826,
          255315.6833060534,
          97577.94467746204,
          94655.09576314442,
          108761.9140057357,
          243653.0004594281,
          414236.89180004515,
          44654.14570869436,
          66445.19876722553,
          193410.5604339534,
          23751.887187330536,
          126337.80915125084,
          62805.31179940786,
          93126.52588406032,
          76961.14234936022,
          113552.02666745572,
          171118.00927324223,
          429049.13784361567,
          43796.77041926318,
          299706.71488989255,
          2050.7628084555527,
          27853.07162813953,
          66645.78185990409,
          100969.42498205832,
          303408.0600959205,
          371160.366710942,
          1368753.0606255273,
          5898962.932939839,
          37641974.028912015,
          664657.673482715,
          405133.2658105543,
          138148.2133113884,
          628656.1948421875,
          72943.25531606948,
          850017.0101032979,
          111395.89159726433,
          75849.53873642917,
          159980.25064392167,
          38068.504642932,
          39081.10114983448,
          53533.06992470606,
          21769.27826543299,
          62852.42682994573,
          8202.316346379128,
          101764.98017125667,
          6434.3686448132785,
          123461.75934840305,
          42451.65534639083,
          87141.45885270824,
          181587.96848546094,
          126234.25295643152,
          82097.94498552411,
          87832.6020712244,
          52932.90629003091,
          107886.34914253993,
          126366.658854014,
          1572.3439064183262,
          70425.2886320299,
          236302.8127425217,
          27395.147576131018,
          23496.06461742552,
          55217.869757545544,
          107378.02769347114,
          32450.557492086973,
          251067.52790320266,
          31660.757989854734,
          291753.3473749944,
          11206.957945496799,
          187041.72274160964,
          38777.27011496879,
          108303.99192650545,
          3394.8343873303465,
          25244.11054338501,
          55799.20079885585,
          12869.601456902821,
          41034.167369729694,
          76373.1939425478,
          64244.31150797089,
          8621.92981036313,
          71172.0050258923,
          70240.60135701223,
          126251.21609197863,
          10840.263406947237,
          165364.78820454184,
          62707.668442878035,
          59102.299475363936,
          29717.899044561862,
          89113.05755162964,
          11722.575584972232,
          23420.602207439148,
          40191.8958199082,
          33430.88211119181,
          2530.2008546290617,
          20844.370694120913,
          118257.79452652855,
          14220.21615781972,
          11037.313308034516,
          20928.027766702973,
          40025.09223531829,
          28441.80650523867,
          74603.08290283554,
          202470.31728790503,
          11437.612260073674,
          18934.074543930674,
          20764.64796709366,
          11835.094273047067,
          2621.29582112558,
          105466.08098211732,
          35562.39824303309,
          7498.21793638764,
          88220.66767687885,
          69188.27952911731,
          12462.060730032126,
          11314.61055294929,
          5236.096022968031,
          30542.827109213227,
          107850.48415875642,
          105393.02514198031,
          116796.4164439307,
          235334.24950303548,
          15776.668811033815,
          14201.958721558916,
          5556.955980930171,
          25554.87800643513,
          268139.9964728549,
          2814.6325474223877,
          452025.62560469075,
          13385.292256796116,
          116487.8781273872,
          158310.29058223037,
          3844.2849958424445,
          330608.6102968128,
          751843.247560309,
          990656.8966488912,
          9436058.687481217,
          7094897.869271146,
          1036079.1826392462,
          476817.3399697863,
          211087.74499725242,
          189793.67558797417,
          24184.07058094931,
          441222.6232115174,
          6269.428358305242,
          32852.65648076148,
          93504.34985708498,
          109091.45700687495,
          177027.60879639274,
          7856.478871731557,
          64653.06414749847,
          79809.53965887507,
          3107.7535049694575,
          53616.232604339435,
          192351.7849949316,
          126163.22682122489,
          88571.31439368044,
          2360.795457413896,
          36985.78443748678,
          50140.397123753064,
          8218.416398349693,
          135122.20285562403,
          50615.95862454897,
          7272.464199327306,
          43695.96797836665,
          50534.46441500916,
          45837.99174382035,
          25730.217277161435,
          18499.479252544086,
          6041.76026017224,
          22267.374948264493,
          7581.392519084117,
          34799.98164939007,
          71486.61137347005,
          44657.21510895715,
          8558.435039998669,
          4883.9111051278,
          85155.07529270778,
          3670.0915700974547,
          124212.60808183468,
          1551.664110357409,
          89620.1535968456,
          3516.2576648338027,
          93880.46852341769,
          16456.763183695773,
          51018.43317814998,
          22790.850513419606,
          16297.107679723344,
          31936.622202619215,
          32131.353393233712,
          8899.609395350233,
          17207.25569189154,
          57151.7843627316,
          3027.51872898054,
          109527.287394516,
          31382.4986077056,
          233658.12615403402,
          7152.456266143957,
          118766.69197420531,
          45094.90753745087,
          105787.18500962971,
          70267.10739760534,
          44158.40084425984,
          2970.0444238575255,
          27853.658429622574,
          43328.71728710906,
          10813.11036326946,
          22803.666020709607,
          18090.86297539405,
          43081.645398338354,
          5000.657986616367,
          126241.9355168877,
          105259.56919847755,
          95431.83959037684,
          11762.24948813419,
          121771.42738279533,
          6666.579610696419,
          64800.6576091378,
          115398.71572565396,
          16406.79273048688,
          51111.12858082385,
          28746.539585043574,
          14455.728646385682,
          9795.154832655977,
          22018.661823396134,
          30081.444175680972,
          102992.45506450119,
          37743.924116159,
          36873.95817204681,
          68924.53377849533,
          30364.04589835302,
          2052.6872307633435,
          37359.78212381268,
          1446.4899561809586,
          30521.952944782886,
          117746.77532142453,
          42672.234867350504,
          235279.7089071604,
          8878.367641137682,
          107731.49822790879,
          14176.12571993745,
          374178.17795766814,
          48477.115164149254,
          4216002.508096012,
          213822.4236790888,
          232406.8616982909,
          27240.116810644296,
          76715.95287636417,
          154234.18232651093,
          14628.070345396085,
          12006.67366058629,
          18140.98592728715,
          80068.01548143636,
          30437.607259306955,
          70973.55263938213,
          887.2239736518596,
          135743.09391821147,
          33920.48268351484,
          67307.0566016065,
          381.16713041614463,
          39671.00900317308,
          11698.336240136703,
          16158.056983684373,
          8476.702973511503,
          31204.689880496866,
          18301.00513664385,
          8163.847045471926,
          14283.335480453952,
          4774.8850916367755,
          67922.71711070856,
          13787.53275478225,
          183006.64602845654,
          13779.385660395707,
          134478.45286400232,
          6214.608649434309,
          27496.852760542766,
          10329.75519873614,
          44145.51598952532,
          21633.170244909696,
          57746.40509829171,
          16123.86400661617,
          45976.49724975458,
          9748.968329182742,
          55558.178643957224,
          12390.06524697102,
          4722.102731895297,
          3630.1588533673107,
          17468.532306943376,
          33967.632536812365,
          6881.3061125504,
          24549.90149288974,
          4082.268318019797,
          27524.720826981753,
          12063.932489244244,
          29567.678235038362,
          24747.092338822917,
          1506.4987931889725
         ],
         "yaxis": "y"
        }
       ],
       "layout": {
        "legend": {
         "tracegroupgap": 0
        },
        "margin": {
         "t": 60
        },
        "template": {
         "data": {
          "bar": [
           {
            "error_x": {
             "color": "#2a3f5f"
            },
            "error_y": {
             "color": "#2a3f5f"
            },
            "marker": {
             "line": {
              "color": "#E5ECF6",
              "width": 0.5
             },
             "pattern": {
              "fillmode": "overlay",
              "size": 10,
              "solidity": 0.2
             }
            },
            "type": "bar"
           }
          ],
          "barpolar": [
           {
            "marker": {
             "line": {
              "color": "#E5ECF6",
              "width": 0.5
             },
             "pattern": {
              "fillmode": "overlay",
              "size": 10,
              "solidity": 0.2
             }
            },
            "type": "barpolar"
           }
          ],
          "carpet": [
           {
            "aaxis": {
             "endlinecolor": "#2a3f5f",
             "gridcolor": "white",
             "linecolor": "white",
             "minorgridcolor": "white",
             "startlinecolor": "#2a3f5f"
            },
            "baxis": {
             "endlinecolor": "#2a3f5f",
             "gridcolor": "white",
             "linecolor": "white",
             "minorgridcolor": "white",
             "startlinecolor": "#2a3f5f"
            },
            "type": "carpet"
           }
          ],
          "choropleth": [
           {
            "colorbar": {
             "outlinewidth": 0,
             "ticks": ""
            },
            "type": "choropleth"
           }
          ],
          "contour": [
           {
            "colorbar": {
             "outlinewidth": 0,
             "ticks": ""
            },
            "colorscale": [
             [
              0,
              "#0d0887"
             ],
             [
              0.1111111111111111,
              "#46039f"
             ],
             [
              0.2222222222222222,
              "#7201a8"
             ],
             [
              0.3333333333333333,
              "#9c179e"
             ],
             [
              0.4444444444444444,
              "#bd3786"
             ],
             [
              0.5555555555555556,
              "#d8576b"
             ],
             [
              0.6666666666666666,
              "#ed7953"
             ],
             [
              0.7777777777777778,
              "#fb9f3a"
             ],
             [
              0.8888888888888888,
              "#fdca26"
             ],
             [
              1,
              "#f0f921"
             ]
            ],
            "type": "contour"
           }
          ],
          "contourcarpet": [
           {
            "colorbar": {
             "outlinewidth": 0,
             "ticks": ""
            },
            "type": "contourcarpet"
           }
          ],
          "heatmap": [
           {
            "colorbar": {
             "outlinewidth": 0,
             "ticks": ""
            },
            "colorscale": [
             [
              0,
              "#0d0887"
             ],
             [
              0.1111111111111111,
              "#46039f"
             ],
             [
              0.2222222222222222,
              "#7201a8"
             ],
             [
              0.3333333333333333,
              "#9c179e"
             ],
             [
              0.4444444444444444,
              "#bd3786"
             ],
             [
              0.5555555555555556,
              "#d8576b"
             ],
             [
              0.6666666666666666,
              "#ed7953"
             ],
             [
              0.7777777777777778,
              "#fb9f3a"
             ],
             [
              0.8888888888888888,
              "#fdca26"
             ],
             [
              1,
              "#f0f921"
             ]
            ],
            "type": "heatmap"
           }
          ],
          "heatmapgl": [
           {
            "colorbar": {
             "outlinewidth": 0,
             "ticks": ""
            },
            "colorscale": [
             [
              0,
              "#0d0887"
             ],
             [
              0.1111111111111111,
              "#46039f"
             ],
             [
              0.2222222222222222,
              "#7201a8"
             ],
             [
              0.3333333333333333,
              "#9c179e"
             ],
             [
              0.4444444444444444,
              "#bd3786"
             ],
             [
              0.5555555555555556,
              "#d8576b"
             ],
             [
              0.6666666666666666,
              "#ed7953"
             ],
             [
              0.7777777777777778,
              "#fb9f3a"
             ],
             [
              0.8888888888888888,
              "#fdca26"
             ],
             [
              1,
              "#f0f921"
             ]
            ],
            "type": "heatmapgl"
           }
          ],
          "histogram": [
           {
            "marker": {
             "pattern": {
              "fillmode": "overlay",
              "size": 10,
              "solidity": 0.2
             }
            },
            "type": "histogram"
           }
          ],
          "histogram2d": [
           {
            "colorbar": {
             "outlinewidth": 0,
             "ticks": ""
            },
            "colorscale": [
             [
              0,
              "#0d0887"
             ],
             [
              0.1111111111111111,
              "#46039f"
             ],
             [
              0.2222222222222222,
              "#7201a8"
             ],
             [
              0.3333333333333333,
              "#9c179e"
             ],
             [
              0.4444444444444444,
              "#bd3786"
             ],
             [
              0.5555555555555556,
              "#d8576b"
             ],
             [
              0.6666666666666666,
              "#ed7953"
             ],
             [
              0.7777777777777778,
              "#fb9f3a"
             ],
             [
              0.8888888888888888,
              "#fdca26"
             ],
             [
              1,
              "#f0f921"
             ]
            ],
            "type": "histogram2d"
           }
          ],
          "histogram2dcontour": [
           {
            "colorbar": {
             "outlinewidth": 0,
             "ticks": ""
            },
            "colorscale": [
             [
              0,
              "#0d0887"
             ],
             [
              0.1111111111111111,
              "#46039f"
             ],
             [
              0.2222222222222222,
              "#7201a8"
             ],
             [
              0.3333333333333333,
              "#9c179e"
             ],
             [
              0.4444444444444444,
              "#bd3786"
             ],
             [
              0.5555555555555556,
              "#d8576b"
             ],
             [
              0.6666666666666666,
              "#ed7953"
             ],
             [
              0.7777777777777778,
              "#fb9f3a"
             ],
             [
              0.8888888888888888,
              "#fdca26"
             ],
             [
              1,
              "#f0f921"
             ]
            ],
            "type": "histogram2dcontour"
           }
          ],
          "mesh3d": [
           {
            "colorbar": {
             "outlinewidth": 0,
             "ticks": ""
            },
            "type": "mesh3d"
           }
          ],
          "parcoords": [
           {
            "line": {
             "colorbar": {
              "outlinewidth": 0,
              "ticks": ""
             }
            },
            "type": "parcoords"
           }
          ],
          "pie": [
           {
            "automargin": true,
            "type": "pie"
           }
          ],
          "scatter": [
           {
            "fillpattern": {
             "fillmode": "overlay",
             "size": 10,
             "solidity": 0.2
            },
            "type": "scatter"
           }
          ],
          "scatter3d": [
           {
            "line": {
             "colorbar": {
              "outlinewidth": 0,
              "ticks": ""
             }
            },
            "marker": {
             "colorbar": {
              "outlinewidth": 0,
              "ticks": ""
             }
            },
            "type": "scatter3d"
           }
          ],
          "scattercarpet": [
           {
            "marker": {
             "colorbar": {
              "outlinewidth": 0,
              "ticks": ""
             }
            },
            "type": "scattercarpet"
           }
          ],
          "scattergeo": [
           {
            "marker": {
             "colorbar": {
              "outlinewidth": 0,
              "ticks": ""
             }
            },
            "type": "scattergeo"
           }
          ],
          "scattergl": [
           {
            "marker": {
             "colorbar": {
              "outlinewidth": 0,
              "ticks": ""
             }
            },
            "type": "scattergl"
           }
          ],
          "scattermapbox": [
           {
            "marker": {
             "colorbar": {
              "outlinewidth": 0,
              "ticks": ""
             }
            },
            "type": "scattermapbox"
           }
          ],
          "scatterpolar": [
           {
            "marker": {
             "colorbar": {
              "outlinewidth": 0,
              "ticks": ""
             }
            },
            "type": "scatterpolar"
           }
          ],
          "scatterpolargl": [
           {
            "marker": {
             "colorbar": {
              "outlinewidth": 0,
              "ticks": ""
             }
            },
            "type": "scatterpolargl"
           }
          ],
          "scatterternary": [
           {
            "marker": {
             "colorbar": {
              "outlinewidth": 0,
              "ticks": ""
             }
            },
            "type": "scatterternary"
           }
          ],
          "surface": [
           {
            "colorbar": {
             "outlinewidth": 0,
             "ticks": ""
            },
            "colorscale": [
             [
              0,
              "#0d0887"
             ],
             [
              0.1111111111111111,
              "#46039f"
             ],
             [
              0.2222222222222222,
              "#7201a8"
             ],
             [
              0.3333333333333333,
              "#9c179e"
             ],
             [
              0.4444444444444444,
              "#bd3786"
             ],
             [
              0.5555555555555556,
              "#d8576b"
             ],
             [
              0.6666666666666666,
              "#ed7953"
             ],
             [
              0.7777777777777778,
              "#fb9f3a"
             ],
             [
              0.8888888888888888,
              "#fdca26"
             ],
             [
              1,
              "#f0f921"
             ]
            ],
            "type": "surface"
           }
          ],
          "table": [
           {
            "cells": {
             "fill": {
              "color": "#EBF0F8"
             },
             "line": {
              "color": "white"
             }
            },
            "header": {
             "fill": {
              "color": "#C8D4E3"
             },
             "line": {
              "color": "white"
             }
            },
            "type": "table"
           }
          ]
         },
         "layout": {
          "annotationdefaults": {
           "arrowcolor": "#2a3f5f",
           "arrowhead": 0,
           "arrowwidth": 1
          },
          "autotypenumbers": "strict",
          "coloraxis": {
           "colorbar": {
            "outlinewidth": 0,
            "ticks": ""
           }
          },
          "colorscale": {
           "diverging": [
            [
             0,
             "#8e0152"
            ],
            [
             0.1,
             "#c51b7d"
            ],
            [
             0.2,
             "#de77ae"
            ],
            [
             0.3,
             "#f1b6da"
            ],
            [
             0.4,
             "#fde0ef"
            ],
            [
             0.5,
             "#f7f7f7"
            ],
            [
             0.6,
             "#e6f5d0"
            ],
            [
             0.7,
             "#b8e186"
            ],
            [
             0.8,
             "#7fbc41"
            ],
            [
             0.9,
             "#4d9221"
            ],
            [
             1,
             "#276419"
            ]
           ],
           "sequential": [
            [
             0,
             "#0d0887"
            ],
            [
             0.1111111111111111,
             "#46039f"
            ],
            [
             0.2222222222222222,
             "#7201a8"
            ],
            [
             0.3333333333333333,
             "#9c179e"
            ],
            [
             0.4444444444444444,
             "#bd3786"
            ],
            [
             0.5555555555555556,
             "#d8576b"
            ],
            [
             0.6666666666666666,
             "#ed7953"
            ],
            [
             0.7777777777777778,
             "#fb9f3a"
            ],
            [
             0.8888888888888888,
             "#fdca26"
            ],
            [
             1,
             "#f0f921"
            ]
           ],
           "sequentialminus": [
            [
             0,
             "#0d0887"
            ],
            [
             0.1111111111111111,
             "#46039f"
            ],
            [
             0.2222222222222222,
             "#7201a8"
            ],
            [
             0.3333333333333333,
             "#9c179e"
            ],
            [
             0.4444444444444444,
             "#bd3786"
            ],
            [
             0.5555555555555556,
             "#d8576b"
            ],
            [
             0.6666666666666666,
             "#ed7953"
            ],
            [
             0.7777777777777778,
             "#fb9f3a"
            ],
            [
             0.8888888888888888,
             "#fdca26"
            ],
            [
             1,
             "#f0f921"
            ]
           ]
          },
          "colorway": [
           "#636efa",
           "#EF553B",
           "#00cc96",
           "#ab63fa",
           "#FFA15A",
           "#19d3f3",
           "#FF6692",
           "#B6E880",
           "#FF97FF",
           "#FECB52"
          ],
          "font": {
           "color": "#2a3f5f"
          },
          "geo": {
           "bgcolor": "white",
           "lakecolor": "white",
           "landcolor": "#E5ECF6",
           "showlakes": true,
           "showland": true,
           "subunitcolor": "white"
          },
          "hoverlabel": {
           "align": "left"
          },
          "hovermode": "closest",
          "mapbox": {
           "style": "light"
          },
          "paper_bgcolor": "white",
          "plot_bgcolor": "#E5ECF6",
          "polar": {
           "angularaxis": {
            "gridcolor": "white",
            "linecolor": "white",
            "ticks": ""
           },
           "bgcolor": "#E5ECF6",
           "radialaxis": {
            "gridcolor": "white",
            "linecolor": "white",
            "ticks": ""
           }
          },
          "scene": {
           "xaxis": {
            "backgroundcolor": "#E5ECF6",
            "gridcolor": "white",
            "gridwidth": 2,
            "linecolor": "white",
            "showbackground": true,
            "ticks": "",
            "zerolinecolor": "white"
           },
           "yaxis": {
            "backgroundcolor": "#E5ECF6",
            "gridcolor": "white",
            "gridwidth": 2,
            "linecolor": "white",
            "showbackground": true,
            "ticks": "",
            "zerolinecolor": "white"
           },
           "zaxis": {
            "backgroundcolor": "#E5ECF6",
            "gridcolor": "white",
            "gridwidth": 2,
            "linecolor": "white",
            "showbackground": true,
            "ticks": "",
            "zerolinecolor": "white"
           }
          },
          "shapedefaults": {
           "line": {
            "color": "#2a3f5f"
           }
          },
          "ternary": {
           "aaxis": {
            "gridcolor": "white",
            "linecolor": "white",
            "ticks": ""
           },
           "baxis": {
            "gridcolor": "white",
            "linecolor": "white",
            "ticks": ""
           },
           "bgcolor": "#E5ECF6",
           "caxis": {
            "gridcolor": "white",
            "linecolor": "white",
            "ticks": ""
           }
          },
          "title": {
           "x": 0.05
          },
          "xaxis": {
           "automargin": true,
           "gridcolor": "white",
           "linecolor": "white",
           "ticks": "",
           "title": {
            "standoff": 15
           },
           "zerolinecolor": "white",
           "zerolinewidth": 2
          },
          "yaxis": {
           "automargin": true,
           "gridcolor": "white",
           "linecolor": "white",
           "ticks": "",
           "title": {
            "standoff": 15
           },
           "zerolinecolor": "white",
           "zerolinewidth": 2
          }
         }
        },
        "xaxis": {
         "anchor": "y",
         "domain": [
          0,
          1
         ],
         "title": {
          "text": "x"
         }
        },
        "yaxis": {
         "anchor": "x",
         "domain": [
          0,
          1
         ],
         "title": {
          "text": "y"
         }
        }
       }
      }
     },
     "metadata": {},
     "output_type": "display_data"
    }
   ],
   "source": [
    "figure = plotly.express.line(x=frequency, y=spectrum, line_shape='hv')\n",
    "figure"
   ]
  },
  {
   "cell_type": "code",
   "execution_count": 31,
   "metadata": {},
   "outputs": [
    {
     "name": "stderr",
     "output_type": "stream",
     "text": [
      "/home/houzeyu2683/.conda/envs/Kaggle/lib/python3.7/site-packages/IPython/core/interactiveshell.py:3553: FutureWarning:\n",
      "\n",
      "Units 'M', 'Y' and 'y' do not represent unambiguous timedelta values and will be removed in a future version\n",
      "\n"
     ]
    },
    {
     "data": {
      "text/plain": [
       "365.2425"
      ]
     },
     "execution_count": 31,
     "metadata": {},
     "output_type": "execute_result"
    }
   ],
   "source": [
    "fs = pandas.Timedelta(\"1Y\") / pandas.Timedelta(\"1D\")\n",
    "fs"
   ]
  },
  {
   "cell_type": "code",
   "execution_count": null,
   "metadata": {},
   "outputs": [],
   "source": [
    "# def plot_periodogram(ts, detrend='linear', ax=None):\n",
    "    \n",
    "#     fs = pd.Timedelta(\"1Y\") / pd.Timedelta(\"1D\")\n",
    "#     freqencies, spectrum = periodogram(\n",
    "#         ts,\n",
    "#         fs=fs,\n",
    "#         detrend=detrend,\n",
    "#         window=\"boxcar\",\n",
    "#         scaling='spectrum',\n",
    "#     )\n",
    "#     if ax is None:\n",
    "#         _, ax = plt.subplots()\n",
    "#     ax.step(freqencies, spectrum, color=\"purple\")\n",
    "#     ax.set_xscale(\"log\")\n",
    "#     ax.set_xticks([1, 2, 4, 6, 12, 26, 52, 104])\n",
    "#     ax.set_xticklabels(\n",
    "#         [\n",
    "#             \"Annual (1)\",\n",
    "#             \"Semiannual (2)\",\n",
    "#             \"Quarterly (4)\",\n",
    "#             \"Bimonthly (6)\",\n",
    "#             \"Monthly (12)\",\n",
    "#             \"Biweekly (26)\",\n",
    "#             \"Weekly (52)\",\n",
    "#             \"Semiweekly (104)\",\n",
    "#         ],\n",
    "#         rotation=30,\n",
    "#     )\n",
    "#     ax.ticklabel_format(axis=\"y\", style=\"sci\", scilimits=(0, 0))\n",
    "#     ax.set_ylabel(\"Variance\")\n",
    "#     ax.set_title(\"Periodogram\")\n",
    "#     return ax"
   ]
  }
 ],
 "metadata": {
  "kernelspec": {
   "display_name": "Kaggle",
   "language": "python",
   "name": "python3"
  },
  "language_info": {
   "codemirror_mode": {
    "name": "ipython",
    "version": 3
   },
   "file_extension": ".py",
   "mimetype": "text/x-python",
   "name": "python",
   "nbconvert_exporter": "python",
   "pygments_lexer": "ipython3",
   "version": "3.7.15"
  },
  "orig_nbformat": 4,
  "vscode": {
   "interpreter": {
    "hash": "6a804913f8a9cad8ea476991eba07878c0dc60e35a3e5c06b15c0b0bc7e7bb34"
   }
  }
 },
 "nbformat": 4,
 "nbformat_minor": 2
}
